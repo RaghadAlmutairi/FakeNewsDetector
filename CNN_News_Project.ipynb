{
  "nbformat": 4,
  "nbformat_minor": 0,
  "metadata": {
    "colab": {
      "provenance": [],
      "machine_shape": "hm",
      "gpuType": "T4"
    },
    "kernelspec": {
      "name": "python3",
      "display_name": "Python 3"
    },
    "language_info": {
      "name": "python"
    },
    "accelerator": "GPU"
  },
  "cells": [
    {
      "cell_type": "markdown",
      "source": [
        "#📌**Step 1: Import Libraries**"
      ],
      "metadata": {
        "id": "UYaCv0eEsn06"
      }
    },
    {
      "cell_type": "code",
      "source": [
        "import pandas as pd\n",
        "import nltk\n",
        "import matplotlib.pyplot as plt\n",
        "import seaborn as sns\n",
        "import re\n",
        "from nltk.corpus import stopwords\n",
        "from collections import Counter\n",
        "from wordcloud import WordCloud\n",
        "from nltk.tokenize import word_tokenize\n",
        "from nltk.stem import WordNetLemmatizer\n",
        "import string\n",
        "from sklearn.feature_extraction.text import TfidfVectorizer\n",
        "from sklearn.preprocessing import OneHotEncoder\n",
        "from sklearn.model_selection import train_test_split\n",
        "from sklearn.linear_model import LogisticRegression\n",
        "from sklearn.metrics import accuracy_score, classification_report, confusion_matrix\n",
        "from scipy.sparse import hstack\n",
        "nltk.download('punkt')\n",
        "nltk.download('stopwords')\n",
        "nltk.download('punkt_tab')\n",
        "nltk.download('wordnet')"
      ],
      "metadata": {
        "colab": {
          "base_uri": "https://localhost:8080/"
        },
        "id": "OcU802M3tHAC",
        "outputId": "695bc246-b3df-4eed-958f-ddb005306a29"
      },
      "execution_count": null,
      "outputs": [
        {
          "output_type": "stream",
          "name": "stderr",
          "text": [
            "[nltk_data] Downloading package punkt to /root/nltk_data...\n",
            "[nltk_data]   Unzipping tokenizers/punkt.zip.\n",
            "[nltk_data] Downloading package stopwords to /root/nltk_data...\n",
            "[nltk_data]   Unzipping corpora/stopwords.zip.\n",
            "[nltk_data] Downloading package punkt_tab to /root/nltk_data...\n",
            "[nltk_data]   Unzipping tokenizers/punkt_tab.zip.\n",
            "[nltk_data] Downloading package wordnet to /root/nltk_data...\n"
          ]
        },
        {
          "output_type": "execute_result",
          "data": {
            "text/plain": [
              "True"
            ]
          },
          "metadata": {},
          "execution_count": 1
        }
      ]
    },
    {
      "cell_type": "markdown",
      "source": [
        "#**📌 Step 2: Load Dataset & EDA (Exploratory Data Analysis)**"
      ],
      "metadata": {
        "id": "iXPnmusAtQ1z"
      }
    },
    {
      "cell_type": "code",
      "source": [
        "!git clone https://github.com/ironhack-labs/project-nlp-challenge"
      ],
      "metadata": {
        "colab": {
          "base_uri": "https://localhost:8080/"
        },
        "id": "Lpt59qs2lSeW",
        "outputId": "c399d9a1-f3da-4d1a-8cda-6546ffe50e15"
      },
      "execution_count": null,
      "outputs": [
        {
          "output_type": "stream",
          "name": "stdout",
          "text": [
            "Cloning into 'project-nlp-challenge'...\n",
            "remote: Enumerating objects: 6, done.\u001b[K\n",
            "remote: Total 6 (delta 0), reused 0 (delta 0), pack-reused 6 (from 1)\u001b[K\n",
            "Receiving objects: 100% (6/6), 40.45 MiB | 27.95 MiB/s, done.\n"
          ]
        }
      ]
    },
    {
      "cell_type": "code",
      "source": [
        "df = pd.read_csv(\"/content/project-nlp-challenge/dataset/data.csv\")"
      ],
      "metadata": {
        "id": "qBZisIyRtNjp"
      },
      "execution_count": null,
      "outputs": []
    },
    {
      "cell_type": "code",
      "source": [
        "df.head(20)"
      ],
      "metadata": {
        "id": "U5MPfXB_v3gA",
        "colab": {
          "base_uri": "https://localhost:8080/",
          "height": 677
        },
        "outputId": "df7ebdd5-6d8e-4f0b-8e4f-459f1c39289a"
      },
      "execution_count": null,
      "outputs": [
        {
          "output_type": "execute_result",
          "data": {
            "text/plain": [
              "    label                                              title  \\\n",
              "0       1  As U.S. budget fight looms, Republicans flip t...   \n",
              "1       1  U.S. military to accept transgender recruits o...   \n",
              "2       1  Senior U.S. Republican senator: 'Let Mr. Muell...   \n",
              "3       1  FBI Russia probe helped by Australian diplomat...   \n",
              "4       1  Trump wants Postal Service to charge 'much mor...   \n",
              "5       1  White House, Congress prepare for talks on spe...   \n",
              "6       1  Trump says Russia probe will be fair, but time...   \n",
              "7       1  Factbox: Trump on Twitter (Dec 29) - Approval ...   \n",
              "8       1         Trump on Twitter (Dec 28) - Global Warming   \n",
              "9       1  Alabama official to certify Senator-elect Jone...   \n",
              "10      1  Jones certified U.S. Senate winner despite Moo...   \n",
              "11      1  New York governor questions the constitutional...   \n",
              "12      1  Factbox: Trump on Twitter (Dec 28) - Vanity Fa...   \n",
              "13      1     Trump on Twitter (Dec 27) - Trump, Iraq, Syria   \n",
              "14      1  Man says he delivered manure to Mnuchin to pro...   \n",
              "15      1  Virginia officials postpone lottery drawing to...   \n",
              "16      1  U.S. lawmakers question businessman at 2016 Tr...   \n",
              "17      1  Trump on Twitter (Dec 26) - Hillary Clinton, T...   \n",
              "18      1  U.S. appeals court rejects challenge to Trump ...   \n",
              "19      1  Treasury Secretary Mnuchin was sent gift-wrapp...   \n",
              "\n",
              "                                                 text       subject  \\\n",
              "0   WASHINGTON (Reuters) - The head of a conservat...  politicsNews   \n",
              "1   WASHINGTON (Reuters) - Transgender people will...  politicsNews   \n",
              "2   WASHINGTON (Reuters) - The special counsel inv...  politicsNews   \n",
              "3   WASHINGTON (Reuters) - Trump campaign adviser ...  politicsNews   \n",
              "4   SEATTLE/WASHINGTON (Reuters) - President Donal...  politicsNews   \n",
              "5   WEST PALM BEACH, Fla./WASHINGTON (Reuters) - T...  politicsNews   \n",
              "6   WEST PALM BEACH, Fla (Reuters) - President Don...  politicsNews   \n",
              "7   The following statements were posted to the ve...  politicsNews   \n",
              "8   The following statements were posted to the ve...  politicsNews   \n",
              "9   WASHINGTON (Reuters) - Alabama Secretary of St...  politicsNews   \n",
              "10  (Reuters) - Alabama officials on Thursday cert...  politicsNews   \n",
              "11  NEW YORK/WASHINGTON (Reuters) - The new U.S. t...  politicsNews   \n",
              "12  The following statements were posted to the ve...  politicsNews   \n",
              "13  The following statements were posted to the ve...  politicsNews   \n",
              "14   (In Dec. 25 story, in second paragraph, corre...  politicsNews   \n",
              "15  (Reuters) - A lottery drawing to settle a tied...  politicsNews   \n",
              "16  WASHINGTON (Reuters) - A Georgian-American bus...  politicsNews   \n",
              "17  The following statements were posted to the ve...  politicsNews   \n",
              "18  (Reuters) - A U.S. appeals court in Washington...  politicsNews   \n",
              "19  (Reuters) - A gift-wrapped package addressed t...  politicsNews   \n",
              "\n",
              "                  date  \n",
              "0   December 31, 2017   \n",
              "1   December 29, 2017   \n",
              "2   December 31, 2017   \n",
              "3   December 30, 2017   \n",
              "4   December 29, 2017   \n",
              "5   December 29, 2017   \n",
              "6   December 29, 2017   \n",
              "7   December 29, 2017   \n",
              "8   December 29, 2017   \n",
              "9   December 28, 2017   \n",
              "10  December 28, 2017   \n",
              "11  December 28, 2017   \n",
              "12  December 28, 2017   \n",
              "13  December 28, 2017   \n",
              "14  December 25, 2017   \n",
              "15  December 27, 2017   \n",
              "16  December 27, 2017   \n",
              "17  December 26, 2017   \n",
              "18  December 26, 2017   \n",
              "19  December 24, 2017   "
            ],
            "text/html": [
              "\n",
              "  <div id=\"df-ebb2860d-2e25-482d-acbc-78b229dbbeb0\" class=\"colab-df-container\">\n",
              "    <div>\n",
              "<style scoped>\n",
              "    .dataframe tbody tr th:only-of-type {\n",
              "        vertical-align: middle;\n",
              "    }\n",
              "\n",
              "    .dataframe tbody tr th {\n",
              "        vertical-align: top;\n",
              "    }\n",
              "\n",
              "    .dataframe thead th {\n",
              "        text-align: right;\n",
              "    }\n",
              "</style>\n",
              "<table border=\"1\" class=\"dataframe\">\n",
              "  <thead>\n",
              "    <tr style=\"text-align: right;\">\n",
              "      <th></th>\n",
              "      <th>label</th>\n",
              "      <th>title</th>\n",
              "      <th>text</th>\n",
              "      <th>subject</th>\n",
              "      <th>date</th>\n",
              "    </tr>\n",
              "  </thead>\n",
              "  <tbody>\n",
              "    <tr>\n",
              "      <th>0</th>\n",
              "      <td>1</td>\n",
              "      <td>As U.S. budget fight looms, Republicans flip t...</td>\n",
              "      <td>WASHINGTON (Reuters) - The head of a conservat...</td>\n",
              "      <td>politicsNews</td>\n",
              "      <td>December 31, 2017</td>\n",
              "    </tr>\n",
              "    <tr>\n",
              "      <th>1</th>\n",
              "      <td>1</td>\n",
              "      <td>U.S. military to accept transgender recruits o...</td>\n",
              "      <td>WASHINGTON (Reuters) - Transgender people will...</td>\n",
              "      <td>politicsNews</td>\n",
              "      <td>December 29, 2017</td>\n",
              "    </tr>\n",
              "    <tr>\n",
              "      <th>2</th>\n",
              "      <td>1</td>\n",
              "      <td>Senior U.S. Republican senator: 'Let Mr. Muell...</td>\n",
              "      <td>WASHINGTON (Reuters) - The special counsel inv...</td>\n",
              "      <td>politicsNews</td>\n",
              "      <td>December 31, 2017</td>\n",
              "    </tr>\n",
              "    <tr>\n",
              "      <th>3</th>\n",
              "      <td>1</td>\n",
              "      <td>FBI Russia probe helped by Australian diplomat...</td>\n",
              "      <td>WASHINGTON (Reuters) - Trump campaign adviser ...</td>\n",
              "      <td>politicsNews</td>\n",
              "      <td>December 30, 2017</td>\n",
              "    </tr>\n",
              "    <tr>\n",
              "      <th>4</th>\n",
              "      <td>1</td>\n",
              "      <td>Trump wants Postal Service to charge 'much mor...</td>\n",
              "      <td>SEATTLE/WASHINGTON (Reuters) - President Donal...</td>\n",
              "      <td>politicsNews</td>\n",
              "      <td>December 29, 2017</td>\n",
              "    </tr>\n",
              "    <tr>\n",
              "      <th>5</th>\n",
              "      <td>1</td>\n",
              "      <td>White House, Congress prepare for talks on spe...</td>\n",
              "      <td>WEST PALM BEACH, Fla./WASHINGTON (Reuters) - T...</td>\n",
              "      <td>politicsNews</td>\n",
              "      <td>December 29, 2017</td>\n",
              "    </tr>\n",
              "    <tr>\n",
              "      <th>6</th>\n",
              "      <td>1</td>\n",
              "      <td>Trump says Russia probe will be fair, but time...</td>\n",
              "      <td>WEST PALM BEACH, Fla (Reuters) - President Don...</td>\n",
              "      <td>politicsNews</td>\n",
              "      <td>December 29, 2017</td>\n",
              "    </tr>\n",
              "    <tr>\n",
              "      <th>7</th>\n",
              "      <td>1</td>\n",
              "      <td>Factbox: Trump on Twitter (Dec 29) - Approval ...</td>\n",
              "      <td>The following statements were posted to the ve...</td>\n",
              "      <td>politicsNews</td>\n",
              "      <td>December 29, 2017</td>\n",
              "    </tr>\n",
              "    <tr>\n",
              "      <th>8</th>\n",
              "      <td>1</td>\n",
              "      <td>Trump on Twitter (Dec 28) - Global Warming</td>\n",
              "      <td>The following statements were posted to the ve...</td>\n",
              "      <td>politicsNews</td>\n",
              "      <td>December 29, 2017</td>\n",
              "    </tr>\n",
              "    <tr>\n",
              "      <th>9</th>\n",
              "      <td>1</td>\n",
              "      <td>Alabama official to certify Senator-elect Jone...</td>\n",
              "      <td>WASHINGTON (Reuters) - Alabama Secretary of St...</td>\n",
              "      <td>politicsNews</td>\n",
              "      <td>December 28, 2017</td>\n",
              "    </tr>\n",
              "    <tr>\n",
              "      <th>10</th>\n",
              "      <td>1</td>\n",
              "      <td>Jones certified U.S. Senate winner despite Moo...</td>\n",
              "      <td>(Reuters) - Alabama officials on Thursday cert...</td>\n",
              "      <td>politicsNews</td>\n",
              "      <td>December 28, 2017</td>\n",
              "    </tr>\n",
              "    <tr>\n",
              "      <th>11</th>\n",
              "      <td>1</td>\n",
              "      <td>New York governor questions the constitutional...</td>\n",
              "      <td>NEW YORK/WASHINGTON (Reuters) - The new U.S. t...</td>\n",
              "      <td>politicsNews</td>\n",
              "      <td>December 28, 2017</td>\n",
              "    </tr>\n",
              "    <tr>\n",
              "      <th>12</th>\n",
              "      <td>1</td>\n",
              "      <td>Factbox: Trump on Twitter (Dec 28) - Vanity Fa...</td>\n",
              "      <td>The following statements were posted to the ve...</td>\n",
              "      <td>politicsNews</td>\n",
              "      <td>December 28, 2017</td>\n",
              "    </tr>\n",
              "    <tr>\n",
              "      <th>13</th>\n",
              "      <td>1</td>\n",
              "      <td>Trump on Twitter (Dec 27) - Trump, Iraq, Syria</td>\n",
              "      <td>The following statements were posted to the ve...</td>\n",
              "      <td>politicsNews</td>\n",
              "      <td>December 28, 2017</td>\n",
              "    </tr>\n",
              "    <tr>\n",
              "      <th>14</th>\n",
              "      <td>1</td>\n",
              "      <td>Man says he delivered manure to Mnuchin to pro...</td>\n",
              "      <td>(In Dec. 25 story, in second paragraph, corre...</td>\n",
              "      <td>politicsNews</td>\n",
              "      <td>December 25, 2017</td>\n",
              "    </tr>\n",
              "    <tr>\n",
              "      <th>15</th>\n",
              "      <td>1</td>\n",
              "      <td>Virginia officials postpone lottery drawing to...</td>\n",
              "      <td>(Reuters) - A lottery drawing to settle a tied...</td>\n",
              "      <td>politicsNews</td>\n",
              "      <td>December 27, 2017</td>\n",
              "    </tr>\n",
              "    <tr>\n",
              "      <th>16</th>\n",
              "      <td>1</td>\n",
              "      <td>U.S. lawmakers question businessman at 2016 Tr...</td>\n",
              "      <td>WASHINGTON (Reuters) - A Georgian-American bus...</td>\n",
              "      <td>politicsNews</td>\n",
              "      <td>December 27, 2017</td>\n",
              "    </tr>\n",
              "    <tr>\n",
              "      <th>17</th>\n",
              "      <td>1</td>\n",
              "      <td>Trump on Twitter (Dec 26) - Hillary Clinton, T...</td>\n",
              "      <td>The following statements were posted to the ve...</td>\n",
              "      <td>politicsNews</td>\n",
              "      <td>December 26, 2017</td>\n",
              "    </tr>\n",
              "    <tr>\n",
              "      <th>18</th>\n",
              "      <td>1</td>\n",
              "      <td>U.S. appeals court rejects challenge to Trump ...</td>\n",
              "      <td>(Reuters) - A U.S. appeals court in Washington...</td>\n",
              "      <td>politicsNews</td>\n",
              "      <td>December 26, 2017</td>\n",
              "    </tr>\n",
              "    <tr>\n",
              "      <th>19</th>\n",
              "      <td>1</td>\n",
              "      <td>Treasury Secretary Mnuchin was sent gift-wrapp...</td>\n",
              "      <td>(Reuters) - A gift-wrapped package addressed t...</td>\n",
              "      <td>politicsNews</td>\n",
              "      <td>December 24, 2017</td>\n",
              "    </tr>\n",
              "  </tbody>\n",
              "</table>\n",
              "</div>\n",
              "    <div class=\"colab-df-buttons\">\n",
              "\n",
              "  <div class=\"colab-df-container\">\n",
              "    <button class=\"colab-df-convert\" onclick=\"convertToInteractive('df-ebb2860d-2e25-482d-acbc-78b229dbbeb0')\"\n",
              "            title=\"Convert this dataframe to an interactive table.\"\n",
              "            style=\"display:none;\">\n",
              "\n",
              "  <svg xmlns=\"http://www.w3.org/2000/svg\" height=\"24px\" viewBox=\"0 -960 960 960\">\n",
              "    <path d=\"M120-120v-720h720v720H120Zm60-500h600v-160H180v160Zm220 220h160v-160H400v160Zm0 220h160v-160H400v160ZM180-400h160v-160H180v160Zm440 0h160v-160H620v160ZM180-180h160v-160H180v160Zm440 0h160v-160H620v160Z\"/>\n",
              "  </svg>\n",
              "    </button>\n",
              "\n",
              "  <style>\n",
              "    .colab-df-container {\n",
              "      display:flex;\n",
              "      gap: 12px;\n",
              "    }\n",
              "\n",
              "    .colab-df-convert {\n",
              "      background-color: #E8F0FE;\n",
              "      border: none;\n",
              "      border-radius: 50%;\n",
              "      cursor: pointer;\n",
              "      display: none;\n",
              "      fill: #1967D2;\n",
              "      height: 32px;\n",
              "      padding: 0 0 0 0;\n",
              "      width: 32px;\n",
              "    }\n",
              "\n",
              "    .colab-df-convert:hover {\n",
              "      background-color: #E2EBFA;\n",
              "      box-shadow: 0px 1px 2px rgba(60, 64, 67, 0.3), 0px 1px 3px 1px rgba(60, 64, 67, 0.15);\n",
              "      fill: #174EA6;\n",
              "    }\n",
              "\n",
              "    .colab-df-buttons div {\n",
              "      margin-bottom: 4px;\n",
              "    }\n",
              "\n",
              "    [theme=dark] .colab-df-convert {\n",
              "      background-color: #3B4455;\n",
              "      fill: #D2E3FC;\n",
              "    }\n",
              "\n",
              "    [theme=dark] .colab-df-convert:hover {\n",
              "      background-color: #434B5C;\n",
              "      box-shadow: 0px 1px 3px 1px rgba(0, 0, 0, 0.15);\n",
              "      filter: drop-shadow(0px 1px 2px rgba(0, 0, 0, 0.3));\n",
              "      fill: #FFFFFF;\n",
              "    }\n",
              "  </style>\n",
              "\n",
              "    <script>\n",
              "      const buttonEl =\n",
              "        document.querySelector('#df-ebb2860d-2e25-482d-acbc-78b229dbbeb0 button.colab-df-convert');\n",
              "      buttonEl.style.display =\n",
              "        google.colab.kernel.accessAllowed ? 'block' : 'none';\n",
              "\n",
              "      async function convertToInteractive(key) {\n",
              "        const element = document.querySelector('#df-ebb2860d-2e25-482d-acbc-78b229dbbeb0');\n",
              "        const dataTable =\n",
              "          await google.colab.kernel.invokeFunction('convertToInteractive',\n",
              "                                                    [key], {});\n",
              "        if (!dataTable) return;\n",
              "\n",
              "        const docLinkHtml = 'Like what you see? Visit the ' +\n",
              "          '<a target=\"_blank\" href=https://colab.research.google.com/notebooks/data_table.ipynb>data table notebook</a>'\n",
              "          + ' to learn more about interactive tables.';\n",
              "        element.innerHTML = '';\n",
              "        dataTable['output_type'] = 'display_data';\n",
              "        await google.colab.output.renderOutput(dataTable, element);\n",
              "        const docLink = document.createElement('div');\n",
              "        docLink.innerHTML = docLinkHtml;\n",
              "        element.appendChild(docLink);\n",
              "      }\n",
              "    </script>\n",
              "  </div>\n",
              "\n",
              "\n",
              "<div id=\"df-811d163e-648b-4fff-b1bb-4cdac3a44e7c\">\n",
              "  <button class=\"colab-df-quickchart\" onclick=\"quickchart('df-811d163e-648b-4fff-b1bb-4cdac3a44e7c')\"\n",
              "            title=\"Suggest charts\"\n",
              "            style=\"display:none;\">\n",
              "\n",
              "<svg xmlns=\"http://www.w3.org/2000/svg\" height=\"24px\"viewBox=\"0 0 24 24\"\n",
              "     width=\"24px\">\n",
              "    <g>\n",
              "        <path d=\"M19 3H5c-1.1 0-2 .9-2 2v14c0 1.1.9 2 2 2h14c1.1 0 2-.9 2-2V5c0-1.1-.9-2-2-2zM9 17H7v-7h2v7zm4 0h-2V7h2v10zm4 0h-2v-4h2v4z\"/>\n",
              "    </g>\n",
              "</svg>\n",
              "  </button>\n",
              "\n",
              "<style>\n",
              "  .colab-df-quickchart {\n",
              "      --bg-color: #E8F0FE;\n",
              "      --fill-color: #1967D2;\n",
              "      --hover-bg-color: #E2EBFA;\n",
              "      --hover-fill-color: #174EA6;\n",
              "      --disabled-fill-color: #AAA;\n",
              "      --disabled-bg-color: #DDD;\n",
              "  }\n",
              "\n",
              "  [theme=dark] .colab-df-quickchart {\n",
              "      --bg-color: #3B4455;\n",
              "      --fill-color: #D2E3FC;\n",
              "      --hover-bg-color: #434B5C;\n",
              "      --hover-fill-color: #FFFFFF;\n",
              "      --disabled-bg-color: #3B4455;\n",
              "      --disabled-fill-color: #666;\n",
              "  }\n",
              "\n",
              "  .colab-df-quickchart {\n",
              "    background-color: var(--bg-color);\n",
              "    border: none;\n",
              "    border-radius: 50%;\n",
              "    cursor: pointer;\n",
              "    display: none;\n",
              "    fill: var(--fill-color);\n",
              "    height: 32px;\n",
              "    padding: 0;\n",
              "    width: 32px;\n",
              "  }\n",
              "\n",
              "  .colab-df-quickchart:hover {\n",
              "    background-color: var(--hover-bg-color);\n",
              "    box-shadow: 0 1px 2px rgba(60, 64, 67, 0.3), 0 1px 3px 1px rgba(60, 64, 67, 0.15);\n",
              "    fill: var(--button-hover-fill-color);\n",
              "  }\n",
              "\n",
              "  .colab-df-quickchart-complete:disabled,\n",
              "  .colab-df-quickchart-complete:disabled:hover {\n",
              "    background-color: var(--disabled-bg-color);\n",
              "    fill: var(--disabled-fill-color);\n",
              "    box-shadow: none;\n",
              "  }\n",
              "\n",
              "  .colab-df-spinner {\n",
              "    border: 2px solid var(--fill-color);\n",
              "    border-color: transparent;\n",
              "    border-bottom-color: var(--fill-color);\n",
              "    animation:\n",
              "      spin 1s steps(1) infinite;\n",
              "  }\n",
              "\n",
              "  @keyframes spin {\n",
              "    0% {\n",
              "      border-color: transparent;\n",
              "      border-bottom-color: var(--fill-color);\n",
              "      border-left-color: var(--fill-color);\n",
              "    }\n",
              "    20% {\n",
              "      border-color: transparent;\n",
              "      border-left-color: var(--fill-color);\n",
              "      border-top-color: var(--fill-color);\n",
              "    }\n",
              "    30% {\n",
              "      border-color: transparent;\n",
              "      border-left-color: var(--fill-color);\n",
              "      border-top-color: var(--fill-color);\n",
              "      border-right-color: var(--fill-color);\n",
              "    }\n",
              "    40% {\n",
              "      border-color: transparent;\n",
              "      border-right-color: var(--fill-color);\n",
              "      border-top-color: var(--fill-color);\n",
              "    }\n",
              "    60% {\n",
              "      border-color: transparent;\n",
              "      border-right-color: var(--fill-color);\n",
              "    }\n",
              "    80% {\n",
              "      border-color: transparent;\n",
              "      border-right-color: var(--fill-color);\n",
              "      border-bottom-color: var(--fill-color);\n",
              "    }\n",
              "    90% {\n",
              "      border-color: transparent;\n",
              "      border-bottom-color: var(--fill-color);\n",
              "    }\n",
              "  }\n",
              "</style>\n",
              "\n",
              "  <script>\n",
              "    async function quickchart(key) {\n",
              "      const quickchartButtonEl =\n",
              "        document.querySelector('#' + key + ' button');\n",
              "      quickchartButtonEl.disabled = true;  // To prevent multiple clicks.\n",
              "      quickchartButtonEl.classList.add('colab-df-spinner');\n",
              "      try {\n",
              "        const charts = await google.colab.kernel.invokeFunction(\n",
              "            'suggestCharts', [key], {});\n",
              "      } catch (error) {\n",
              "        console.error('Error during call to suggestCharts:', error);\n",
              "      }\n",
              "      quickchartButtonEl.classList.remove('colab-df-spinner');\n",
              "      quickchartButtonEl.classList.add('colab-df-quickchart-complete');\n",
              "    }\n",
              "    (() => {\n",
              "      let quickchartButtonEl =\n",
              "        document.querySelector('#df-811d163e-648b-4fff-b1bb-4cdac3a44e7c button');\n",
              "      quickchartButtonEl.style.display =\n",
              "        google.colab.kernel.accessAllowed ? 'block' : 'none';\n",
              "    })();\n",
              "  </script>\n",
              "</div>\n",
              "\n",
              "    </div>\n",
              "  </div>\n"
            ],
            "application/vnd.google.colaboratory.intrinsic+json": {
              "type": "dataframe",
              "variable_name": "df",
              "summary": "{\n  \"name\": \"df\",\n  \"rows\": 39942,\n  \"fields\": [\n    {\n      \"column\": \"label\",\n      \"properties\": {\n        \"dtype\": \"number\",\n        \"std\": 0,\n        \"min\": 0,\n        \"max\": 1,\n        \"num_unique_values\": 2,\n        \"samples\": [\n          0,\n          1\n        ],\n        \"semantic_type\": \"\",\n        \"description\": \"\"\n      }\n    },\n    {\n      \"column\": \"title\",\n      \"properties\": {\n        \"dtype\": \"string\",\n        \"num_unique_values\": 36083,\n        \"samples\": [\n          \"Swedish airport explosive suspect released without charge: prosecutor\",\n          \" Democrats Across The Country Are Figuring Out Ways To FORCE Trump To Release His Tax Returns\"\n        ],\n        \"semantic_type\": \"\",\n        \"description\": \"\"\n      }\n    },\n    {\n      \"column\": \"text\",\n      \"properties\": {\n        \"dtype\": \"string\",\n        \"num_unique_values\": 35977,\n        \"samples\": [\n          \"Rudi gets it! The former mayor of New York speaks out on the horrible Obama foreign policy and how it created ISIS: This did not have to happen if our policies were different.  If President Obama had listened to Senator McCain and Senator Graham and a whole group of other people, and had set up a no-fly zone in Syria five years ago   if we had gone in and worked with the Syrian legitimate rebels  If we had not taken our troops out of Iraq and Afghanistan, ISIS never would have emerged. ISIS is filling a vacuum created by a vacuous foreign policy   ISIS is an Obama creation.  \",\n          \" You re carrying Mexican flags while chanting,  Trump is not my President.  You know that this is America right? ***Language warning***\"\n        ],\n        \"semantic_type\": \"\",\n        \"description\": \"\"\n      }\n    },\n    {\n      \"column\": \"subject\",\n      \"properties\": {\n        \"dtype\": \"category\",\n        \"num_unique_values\": 6,\n        \"samples\": [\n          \"politicsNews\",\n          \"worldnews\"\n        ],\n        \"semantic_type\": \"\",\n        \"description\": \"\"\n      }\n    },\n    {\n      \"column\": \"date\",\n      \"properties\": {\n        \"dtype\": \"category\",\n        \"num_unique_values\": 2392,\n        \"samples\": [\n          \"March 10, 2017\",\n          \"June 16, 2017 \"\n        ],\n        \"semantic_type\": \"\",\n        \"description\": \"\"\n      }\n    }\n  ]\n}"
            }
          },
          "metadata": {},
          "execution_count": 5
        }
      ]
    },
    {
      "cell_type": "code",
      "source": [
        "df.tail(20)"
      ],
      "metadata": {
        "id": "xCpg1-WowF7L",
        "colab": {
          "base_uri": "https://localhost:8080/",
          "height": 677
        },
        "outputId": "586f118b-6302-4c49-80ad-58e459bee127"
      },
      "execution_count": null,
      "outputs": [
        {
          "output_type": "execute_result",
          "data": {
            "text/plain": [
              "       label                                              title  \\\n",
              "39922      0  H.S. Football Team Stages “Die-In” To Show Sup...   \n",
              "39923      0  3 WORKERS At Major Chain Store REFUSE To Make ...   \n",
              "39924      0  AFRICAN-AMERICAN MUSEUM GRAND OPENING IRONY: W...   \n",
              "39925      0  GRAB THE POPCORN! Queen Of Corruption DENIED S...   \n",
              "39926      0  BUSTED! LIBERAL BRAINIACS Steal Trump Sign…In ...   \n",
              "39927      0  DOUBLE STANDARD? WHITE MLB Player Suspended Fo...   \n",
              "39928      0  KEITH SCOTT’S BROTHER Tells Charlotte Reporter...   \n",
              "39929      0  NY TIMES RELEASES Dramatic Video of Keith Scot...   \n",
              "39930      0  BREAKING CHARLOTTE: VIDEO Shows Young White Gi...   \n",
              "39931      0  DEAD BROKE HILLARY Buys Million Dollar “Mother...   \n",
              "39932      0  ALABAMA: MIDDLE CLASS WHITE WOMAN Rejected For...   \n",
              "39933      0  LOL! Charlotte #BlackLivesMatter Rioters Post ...   \n",
              "39934      0  THIS VIDEO WILL DESTROY “Black Lives Matter”…S...   \n",
              "39935      0  CHARLOTTE #BlackLivesMatter Update: SUB-HUMAN ...   \n",
              "39936      0  YIKES! Tomi Lahren DEMOLISHES Hillary: “How Da...   \n",
              "39937      0  THIS IS NOT A JOKE! Soros-Linked Group Has Pla...   \n",
              "39938      0  THE SMARTEST WOMAN In Politics: “How Trump Can...   \n",
              "39939      0  BREAKING! SHOCKING VIDEO FROM CHARLOTTE RIOTS:...   \n",
              "39940      0  BREAKING! Charlotte News Station Reports Cops ...   \n",
              "39941      0  BIG MISTAKE! HILLARY JUST Proved To America Sh...   \n",
              "\n",
              "                                                    text    subject  \\\n",
              "39922  Some 2,500 Americans Have Died in Afghanistan ...  left-news   \n",
              "39923  We are witnessing the slow death of political ...  left-news   \n",
              "39924  This is just stunning! Free speech in our nati...  left-news   \n",
              "39925  The Drudge Report has gained access to the rul...  left-news   \n",
              "39926  This is just idiotic! A couple of liberal brai...  left-news   \n",
              "39927  This double standard surprises no one who s pa...  left-news   \n",
              "39928  The first Black (and half White) President has...  left-news   \n",
              "39929  The New York Times released a dramatic video t...  left-news   \n",
              "39930  The unwarranted violence against innocent Whit...  left-news   \n",
              "39931  The 2014 IRS filings for the Clinton Foundatio...  left-news   \n",
              "39932  Democrats don t care if this legal immigrant h...  left-news   \n",
              "39933  I wish this was a joke!#BlackLivesMatter prote...  left-news   \n",
              "39934                                                     left-news   \n",
              "39935  Because if you re a young White guy walking th...  left-news   \n",
              "39936  Wow! Bravo Tomi! You really nailed it this tim...  left-news   \n",
              "39937  The Left has been organizing for decades, and ...  left-news   \n",
              "39938  Monica Crowley offers some of the most brillia...  left-news   \n",
              "39939  Protest underway in Charlotte:  Things got com...  left-news   \n",
              "39940  Local Charlotte, NC news station WSOCTV is rep...  left-news   \n",
              "39941  Dividing America will be Obama s legacy. Hilla...  left-news   \n",
              "\n",
              "               date  \n",
              "39922  Sep 25, 2016  \n",
              "39923  Sep 25, 2016  \n",
              "39924  Sep 25, 2016  \n",
              "39925  Sep 24, 2016  \n",
              "39926  Sep 24, 2016  \n",
              "39927  Sep 23, 2016  \n",
              "39928  Sep 23, 2016  \n",
              "39929  Sep 23, 2016  \n",
              "39930  Sep 23, 2016  \n",
              "39931  Sep 23, 2016  \n",
              "39932  Sep 23, 2016  \n",
              "39933  Sep 22, 2016  \n",
              "39934  Sep 22, 2016  \n",
              "39935  Sep 22, 2016  \n",
              "39936  Sep 22, 2016  \n",
              "39937  Sep 22, 2016  \n",
              "39938  Sep 22, 2016  \n",
              "39939  Sep 21, 2016  \n",
              "39940  Sep 21, 2016  \n",
              "39941  Sep 21, 2016  "
            ],
            "text/html": [
              "\n",
              "  <div id=\"df-46b35090-cd0f-45cd-b903-2db2c800800a\" class=\"colab-df-container\">\n",
              "    <div>\n",
              "<style scoped>\n",
              "    .dataframe tbody tr th:only-of-type {\n",
              "        vertical-align: middle;\n",
              "    }\n",
              "\n",
              "    .dataframe tbody tr th {\n",
              "        vertical-align: top;\n",
              "    }\n",
              "\n",
              "    .dataframe thead th {\n",
              "        text-align: right;\n",
              "    }\n",
              "</style>\n",
              "<table border=\"1\" class=\"dataframe\">\n",
              "  <thead>\n",
              "    <tr style=\"text-align: right;\">\n",
              "      <th></th>\n",
              "      <th>label</th>\n",
              "      <th>title</th>\n",
              "      <th>text</th>\n",
              "      <th>subject</th>\n",
              "      <th>date</th>\n",
              "    </tr>\n",
              "  </thead>\n",
              "  <tbody>\n",
              "    <tr>\n",
              "      <th>39922</th>\n",
              "      <td>0</td>\n",
              "      <td>H.S. Football Team Stages “Die-In” To Show Sup...</td>\n",
              "      <td>Some 2,500 Americans Have Died in Afghanistan ...</td>\n",
              "      <td>left-news</td>\n",
              "      <td>Sep 25, 2016</td>\n",
              "    </tr>\n",
              "    <tr>\n",
              "      <th>39923</th>\n",
              "      <td>0</td>\n",
              "      <td>3 WORKERS At Major Chain Store REFUSE To Make ...</td>\n",
              "      <td>We are witnessing the slow death of political ...</td>\n",
              "      <td>left-news</td>\n",
              "      <td>Sep 25, 2016</td>\n",
              "    </tr>\n",
              "    <tr>\n",
              "      <th>39924</th>\n",
              "      <td>0</td>\n",
              "      <td>AFRICAN-AMERICAN MUSEUM GRAND OPENING IRONY: W...</td>\n",
              "      <td>This is just stunning! Free speech in our nati...</td>\n",
              "      <td>left-news</td>\n",
              "      <td>Sep 25, 2016</td>\n",
              "    </tr>\n",
              "    <tr>\n",
              "      <th>39925</th>\n",
              "      <td>0</td>\n",
              "      <td>GRAB THE POPCORN! Queen Of Corruption DENIED S...</td>\n",
              "      <td>The Drudge Report has gained access to the rul...</td>\n",
              "      <td>left-news</td>\n",
              "      <td>Sep 24, 2016</td>\n",
              "    </tr>\n",
              "    <tr>\n",
              "      <th>39926</th>\n",
              "      <td>0</td>\n",
              "      <td>BUSTED! LIBERAL BRAINIACS Steal Trump Sign…In ...</td>\n",
              "      <td>This is just idiotic! A couple of liberal brai...</td>\n",
              "      <td>left-news</td>\n",
              "      <td>Sep 24, 2016</td>\n",
              "    </tr>\n",
              "    <tr>\n",
              "      <th>39927</th>\n",
              "      <td>0</td>\n",
              "      <td>DOUBLE STANDARD? WHITE MLB Player Suspended Fo...</td>\n",
              "      <td>This double standard surprises no one who s pa...</td>\n",
              "      <td>left-news</td>\n",
              "      <td>Sep 23, 2016</td>\n",
              "    </tr>\n",
              "    <tr>\n",
              "      <th>39928</th>\n",
              "      <td>0</td>\n",
              "      <td>KEITH SCOTT’S BROTHER Tells Charlotte Reporter...</td>\n",
              "      <td>The first Black (and half White) President has...</td>\n",
              "      <td>left-news</td>\n",
              "      <td>Sep 23, 2016</td>\n",
              "    </tr>\n",
              "    <tr>\n",
              "      <th>39929</th>\n",
              "      <td>0</td>\n",
              "      <td>NY TIMES RELEASES Dramatic Video of Keith Scot...</td>\n",
              "      <td>The New York Times released a dramatic video t...</td>\n",
              "      <td>left-news</td>\n",
              "      <td>Sep 23, 2016</td>\n",
              "    </tr>\n",
              "    <tr>\n",
              "      <th>39930</th>\n",
              "      <td>0</td>\n",
              "      <td>BREAKING CHARLOTTE: VIDEO Shows Young White Gi...</td>\n",
              "      <td>The unwarranted violence against innocent Whit...</td>\n",
              "      <td>left-news</td>\n",
              "      <td>Sep 23, 2016</td>\n",
              "    </tr>\n",
              "    <tr>\n",
              "      <th>39931</th>\n",
              "      <td>0</td>\n",
              "      <td>DEAD BROKE HILLARY Buys Million Dollar “Mother...</td>\n",
              "      <td>The 2014 IRS filings for the Clinton Foundatio...</td>\n",
              "      <td>left-news</td>\n",
              "      <td>Sep 23, 2016</td>\n",
              "    </tr>\n",
              "    <tr>\n",
              "      <th>39932</th>\n",
              "      <td>0</td>\n",
              "      <td>ALABAMA: MIDDLE CLASS WHITE WOMAN Rejected For...</td>\n",
              "      <td>Democrats don t care if this legal immigrant h...</td>\n",
              "      <td>left-news</td>\n",
              "      <td>Sep 23, 2016</td>\n",
              "    </tr>\n",
              "    <tr>\n",
              "      <th>39933</th>\n",
              "      <td>0</td>\n",
              "      <td>LOL! Charlotte #BlackLivesMatter Rioters Post ...</td>\n",
              "      <td>I wish this was a joke!#BlackLivesMatter prote...</td>\n",
              "      <td>left-news</td>\n",
              "      <td>Sep 22, 2016</td>\n",
              "    </tr>\n",
              "    <tr>\n",
              "      <th>39934</th>\n",
              "      <td>0</td>\n",
              "      <td>THIS VIDEO WILL DESTROY “Black Lives Matter”…S...</td>\n",
              "      <td></td>\n",
              "      <td>left-news</td>\n",
              "      <td>Sep 22, 2016</td>\n",
              "    </tr>\n",
              "    <tr>\n",
              "      <th>39935</th>\n",
              "      <td>0</td>\n",
              "      <td>CHARLOTTE #BlackLivesMatter Update: SUB-HUMAN ...</td>\n",
              "      <td>Because if you re a young White guy walking th...</td>\n",
              "      <td>left-news</td>\n",
              "      <td>Sep 22, 2016</td>\n",
              "    </tr>\n",
              "    <tr>\n",
              "      <th>39936</th>\n",
              "      <td>0</td>\n",
              "      <td>YIKES! Tomi Lahren DEMOLISHES Hillary: “How Da...</td>\n",
              "      <td>Wow! Bravo Tomi! You really nailed it this tim...</td>\n",
              "      <td>left-news</td>\n",
              "      <td>Sep 22, 2016</td>\n",
              "    </tr>\n",
              "    <tr>\n",
              "      <th>39937</th>\n",
              "      <td>0</td>\n",
              "      <td>THIS IS NOT A JOKE! Soros-Linked Group Has Pla...</td>\n",
              "      <td>The Left has been organizing for decades, and ...</td>\n",
              "      <td>left-news</td>\n",
              "      <td>Sep 22, 2016</td>\n",
              "    </tr>\n",
              "    <tr>\n",
              "      <th>39938</th>\n",
              "      <td>0</td>\n",
              "      <td>THE SMARTEST WOMAN In Politics: “How Trump Can...</td>\n",
              "      <td>Monica Crowley offers some of the most brillia...</td>\n",
              "      <td>left-news</td>\n",
              "      <td>Sep 22, 2016</td>\n",
              "    </tr>\n",
              "    <tr>\n",
              "      <th>39939</th>\n",
              "      <td>0</td>\n",
              "      <td>BREAKING! SHOCKING VIDEO FROM CHARLOTTE RIOTS:...</td>\n",
              "      <td>Protest underway in Charlotte:  Things got com...</td>\n",
              "      <td>left-news</td>\n",
              "      <td>Sep 21, 2016</td>\n",
              "    </tr>\n",
              "    <tr>\n",
              "      <th>39940</th>\n",
              "      <td>0</td>\n",
              "      <td>BREAKING! Charlotte News Station Reports Cops ...</td>\n",
              "      <td>Local Charlotte, NC news station WSOCTV is rep...</td>\n",
              "      <td>left-news</td>\n",
              "      <td>Sep 21, 2016</td>\n",
              "    </tr>\n",
              "    <tr>\n",
              "      <th>39941</th>\n",
              "      <td>0</td>\n",
              "      <td>BIG MISTAKE! HILLARY JUST Proved To America Sh...</td>\n",
              "      <td>Dividing America will be Obama s legacy. Hilla...</td>\n",
              "      <td>left-news</td>\n",
              "      <td>Sep 21, 2016</td>\n",
              "    </tr>\n",
              "  </tbody>\n",
              "</table>\n",
              "</div>\n",
              "    <div class=\"colab-df-buttons\">\n",
              "\n",
              "  <div class=\"colab-df-container\">\n",
              "    <button class=\"colab-df-convert\" onclick=\"convertToInteractive('df-46b35090-cd0f-45cd-b903-2db2c800800a')\"\n",
              "            title=\"Convert this dataframe to an interactive table.\"\n",
              "            style=\"display:none;\">\n",
              "\n",
              "  <svg xmlns=\"http://www.w3.org/2000/svg\" height=\"24px\" viewBox=\"0 -960 960 960\">\n",
              "    <path d=\"M120-120v-720h720v720H120Zm60-500h600v-160H180v160Zm220 220h160v-160H400v160Zm0 220h160v-160H400v160ZM180-400h160v-160H180v160Zm440 0h160v-160H620v160ZM180-180h160v-160H180v160Zm440 0h160v-160H620v160Z\"/>\n",
              "  </svg>\n",
              "    </button>\n",
              "\n",
              "  <style>\n",
              "    .colab-df-container {\n",
              "      display:flex;\n",
              "      gap: 12px;\n",
              "    }\n",
              "\n",
              "    .colab-df-convert {\n",
              "      background-color: #E8F0FE;\n",
              "      border: none;\n",
              "      border-radius: 50%;\n",
              "      cursor: pointer;\n",
              "      display: none;\n",
              "      fill: #1967D2;\n",
              "      height: 32px;\n",
              "      padding: 0 0 0 0;\n",
              "      width: 32px;\n",
              "    }\n",
              "\n",
              "    .colab-df-convert:hover {\n",
              "      background-color: #E2EBFA;\n",
              "      box-shadow: 0px 1px 2px rgba(60, 64, 67, 0.3), 0px 1px 3px 1px rgba(60, 64, 67, 0.15);\n",
              "      fill: #174EA6;\n",
              "    }\n",
              "\n",
              "    .colab-df-buttons div {\n",
              "      margin-bottom: 4px;\n",
              "    }\n",
              "\n",
              "    [theme=dark] .colab-df-convert {\n",
              "      background-color: #3B4455;\n",
              "      fill: #D2E3FC;\n",
              "    }\n",
              "\n",
              "    [theme=dark] .colab-df-convert:hover {\n",
              "      background-color: #434B5C;\n",
              "      box-shadow: 0px 1px 3px 1px rgba(0, 0, 0, 0.15);\n",
              "      filter: drop-shadow(0px 1px 2px rgba(0, 0, 0, 0.3));\n",
              "      fill: #FFFFFF;\n",
              "    }\n",
              "  </style>\n",
              "\n",
              "    <script>\n",
              "      const buttonEl =\n",
              "        document.querySelector('#df-46b35090-cd0f-45cd-b903-2db2c800800a button.colab-df-convert');\n",
              "      buttonEl.style.display =\n",
              "        google.colab.kernel.accessAllowed ? 'block' : 'none';\n",
              "\n",
              "      async function convertToInteractive(key) {\n",
              "        const element = document.querySelector('#df-46b35090-cd0f-45cd-b903-2db2c800800a');\n",
              "        const dataTable =\n",
              "          await google.colab.kernel.invokeFunction('convertToInteractive',\n",
              "                                                    [key], {});\n",
              "        if (!dataTable) return;\n",
              "\n",
              "        const docLinkHtml = 'Like what you see? Visit the ' +\n",
              "          '<a target=\"_blank\" href=https://colab.research.google.com/notebooks/data_table.ipynb>data table notebook</a>'\n",
              "          + ' to learn more about interactive tables.';\n",
              "        element.innerHTML = '';\n",
              "        dataTable['output_type'] = 'display_data';\n",
              "        await google.colab.output.renderOutput(dataTable, element);\n",
              "        const docLink = document.createElement('div');\n",
              "        docLink.innerHTML = docLinkHtml;\n",
              "        element.appendChild(docLink);\n",
              "      }\n",
              "    </script>\n",
              "  </div>\n",
              "\n",
              "\n",
              "<div id=\"df-adcbc8a2-f6e9-425d-80d9-38ba8ee59789\">\n",
              "  <button class=\"colab-df-quickchart\" onclick=\"quickchart('df-adcbc8a2-f6e9-425d-80d9-38ba8ee59789')\"\n",
              "            title=\"Suggest charts\"\n",
              "            style=\"display:none;\">\n",
              "\n",
              "<svg xmlns=\"http://www.w3.org/2000/svg\" height=\"24px\"viewBox=\"0 0 24 24\"\n",
              "     width=\"24px\">\n",
              "    <g>\n",
              "        <path d=\"M19 3H5c-1.1 0-2 .9-2 2v14c0 1.1.9 2 2 2h14c1.1 0 2-.9 2-2V5c0-1.1-.9-2-2-2zM9 17H7v-7h2v7zm4 0h-2V7h2v10zm4 0h-2v-4h2v4z\"/>\n",
              "    </g>\n",
              "</svg>\n",
              "  </button>\n",
              "\n",
              "<style>\n",
              "  .colab-df-quickchart {\n",
              "      --bg-color: #E8F0FE;\n",
              "      --fill-color: #1967D2;\n",
              "      --hover-bg-color: #E2EBFA;\n",
              "      --hover-fill-color: #174EA6;\n",
              "      --disabled-fill-color: #AAA;\n",
              "      --disabled-bg-color: #DDD;\n",
              "  }\n",
              "\n",
              "  [theme=dark] .colab-df-quickchart {\n",
              "      --bg-color: #3B4455;\n",
              "      --fill-color: #D2E3FC;\n",
              "      --hover-bg-color: #434B5C;\n",
              "      --hover-fill-color: #FFFFFF;\n",
              "      --disabled-bg-color: #3B4455;\n",
              "      --disabled-fill-color: #666;\n",
              "  }\n",
              "\n",
              "  .colab-df-quickchart {\n",
              "    background-color: var(--bg-color);\n",
              "    border: none;\n",
              "    border-radius: 50%;\n",
              "    cursor: pointer;\n",
              "    display: none;\n",
              "    fill: var(--fill-color);\n",
              "    height: 32px;\n",
              "    padding: 0;\n",
              "    width: 32px;\n",
              "  }\n",
              "\n",
              "  .colab-df-quickchart:hover {\n",
              "    background-color: var(--hover-bg-color);\n",
              "    box-shadow: 0 1px 2px rgba(60, 64, 67, 0.3), 0 1px 3px 1px rgba(60, 64, 67, 0.15);\n",
              "    fill: var(--button-hover-fill-color);\n",
              "  }\n",
              "\n",
              "  .colab-df-quickchart-complete:disabled,\n",
              "  .colab-df-quickchart-complete:disabled:hover {\n",
              "    background-color: var(--disabled-bg-color);\n",
              "    fill: var(--disabled-fill-color);\n",
              "    box-shadow: none;\n",
              "  }\n",
              "\n",
              "  .colab-df-spinner {\n",
              "    border: 2px solid var(--fill-color);\n",
              "    border-color: transparent;\n",
              "    border-bottom-color: var(--fill-color);\n",
              "    animation:\n",
              "      spin 1s steps(1) infinite;\n",
              "  }\n",
              "\n",
              "  @keyframes spin {\n",
              "    0% {\n",
              "      border-color: transparent;\n",
              "      border-bottom-color: var(--fill-color);\n",
              "      border-left-color: var(--fill-color);\n",
              "    }\n",
              "    20% {\n",
              "      border-color: transparent;\n",
              "      border-left-color: var(--fill-color);\n",
              "      border-top-color: var(--fill-color);\n",
              "    }\n",
              "    30% {\n",
              "      border-color: transparent;\n",
              "      border-left-color: var(--fill-color);\n",
              "      border-top-color: var(--fill-color);\n",
              "      border-right-color: var(--fill-color);\n",
              "    }\n",
              "    40% {\n",
              "      border-color: transparent;\n",
              "      border-right-color: var(--fill-color);\n",
              "      border-top-color: var(--fill-color);\n",
              "    }\n",
              "    60% {\n",
              "      border-color: transparent;\n",
              "      border-right-color: var(--fill-color);\n",
              "    }\n",
              "    80% {\n",
              "      border-color: transparent;\n",
              "      border-right-color: var(--fill-color);\n",
              "      border-bottom-color: var(--fill-color);\n",
              "    }\n",
              "    90% {\n",
              "      border-color: transparent;\n",
              "      border-bottom-color: var(--fill-color);\n",
              "    }\n",
              "  }\n",
              "</style>\n",
              "\n",
              "  <script>\n",
              "    async function quickchart(key) {\n",
              "      const quickchartButtonEl =\n",
              "        document.querySelector('#' + key + ' button');\n",
              "      quickchartButtonEl.disabled = true;  // To prevent multiple clicks.\n",
              "      quickchartButtonEl.classList.add('colab-df-spinner');\n",
              "      try {\n",
              "        const charts = await google.colab.kernel.invokeFunction(\n",
              "            'suggestCharts', [key], {});\n",
              "      } catch (error) {\n",
              "        console.error('Error during call to suggestCharts:', error);\n",
              "      }\n",
              "      quickchartButtonEl.classList.remove('colab-df-spinner');\n",
              "      quickchartButtonEl.classList.add('colab-df-quickchart-complete');\n",
              "    }\n",
              "    (() => {\n",
              "      let quickchartButtonEl =\n",
              "        document.querySelector('#df-adcbc8a2-f6e9-425d-80d9-38ba8ee59789 button');\n",
              "      quickchartButtonEl.style.display =\n",
              "        google.colab.kernel.accessAllowed ? 'block' : 'none';\n",
              "    })();\n",
              "  </script>\n",
              "</div>\n",
              "\n",
              "    </div>\n",
              "  </div>\n"
            ],
            "application/vnd.google.colaboratory.intrinsic+json": {
              "type": "dataframe",
              "repr_error": "0"
            }
          },
          "metadata": {},
          "execution_count": 6
        }
      ]
    },
    {
      "cell_type": "code",
      "source": [
        "# Check column names and data types\n",
        "print(\"\\nColumn info:\")\n",
        "print(df.info())"
      ],
      "metadata": {
        "id": "mT-BXAq04yR3",
        "colab": {
          "base_uri": "https://localhost:8080/"
        },
        "outputId": "b6520954-b2cb-4934-ca5e-4df197df23d2"
      },
      "execution_count": null,
      "outputs": [
        {
          "output_type": "stream",
          "name": "stdout",
          "text": [
            "\n",
            "Column info:\n",
            "<class 'pandas.core.frame.DataFrame'>\n",
            "RangeIndex: 39942 entries, 0 to 39941\n",
            "Data columns (total 5 columns):\n",
            " #   Column   Non-Null Count  Dtype \n",
            "---  ------   --------------  ----- \n",
            " 0   label    39942 non-null  int64 \n",
            " 1   title    39942 non-null  object\n",
            " 2   text     39942 non-null  object\n",
            " 3   subject  39942 non-null  object\n",
            " 4   date     39942 non-null  object\n",
            "dtypes: int64(1), object(4)\n",
            "memory usage: 1.5+ MB\n",
            "None\n"
          ]
        }
      ]
    },
    {
      "cell_type": "code",
      "source": [
        " # 2. EDA: Check Class Balance\n",
        "label_counts = df['label'].value_counts()\n",
        "print(\"Label Counts:\")\n",
        "print(label_counts)\n",
        "\n",
        "plt.figure(figsize=(6, 4))\n",
        "sns.barplot(x=label_counts.index, y=label_counts.values)\n",
        "plt.xlabel(\"Label\")\n",
        "plt.ylabel(\"Count\")\n",
        "plt.title(\"Class Distribution\")\n",
        "plt.xticks(ticks=[0, 1], labels=[\"Fake News\", \"Real News\"])\n",
        "plt.show()"
      ],
      "metadata": {
        "id": "6XSY_TWSvodp",
        "colab": {
          "base_uri": "https://localhost:8080/",
          "height": 497
        },
        "outputId": "6fcdee68-5ec5-47d3-b84e-c65ba124726f"
      },
      "execution_count": null,
      "outputs": [
        {
          "output_type": "stream",
          "name": "stdout",
          "text": [
            "Label Counts:\n",
            "label\n",
            "1    19999\n",
            "0    19943\n",
            "Name: count, dtype: int64\n"
          ]
        },
        {
          "output_type": "display_data",
          "data": {
            "text/plain": [
              "<Figure size 600x400 with 1 Axes>"
            ],
            "image/png": "[encoded data removed]"
          },
          "metadata": {}
        }
      ]
    },
    {
      "cell_type": "code",
      "source": [
        "# 3. EDA: Word Count Distribution\n",
        "df['word_count'] = df['text'].apply(lambda x: len(str(x).split()))\n",
        "plt.figure(figsize=(8, 5))\n",
        "sns.histplot(df['word_count'], bins=30, kde=True)\n",
        "plt.title(\"Word Count Distribution\")\n",
        "plt.show()"
      ],
      "metadata": {
        "id": "jD1RA16c0Azj",
        "colab": {
          "base_uri": "https://localhost:8080/",
          "height": 487
        },
        "outputId": "8e6c5821-e21a-41ab-fd38-07001c31bc7f"
      },
      "execution_count": null,
      "outputs": [
        {
          "output_type": "display_data",
          "data": {
            "text/plain": [
              "<Figure size 800x500 with 1 Axes>"
            ],
            "image/png": "[encoded data removed]"
          },
          "metadata": {}
        }
      ]
    },
    {
      "cell_type": "code",
      "source": [
        "df.isnull().sum()"
      ],
      "metadata": {
        "id": "drDaBQdl-332",
        "colab": {
          "base_uri": "https://localhost:8080/",
          "height": 272
        },
        "outputId": "387d5c8c-5bc2-4e93-86d2-9d23b76074ca"
      },
      "execution_count": null,
      "outputs": [
        {
          "output_type": "execute_result",
          "data": {
            "text/plain": [
              "label         0\n",
              "title         0\n",
              "text          0\n",
              "subject       0\n",
              "date          0\n",
              "word_count    0\n",
              "dtype: int64"
            ],
            "text/html": [
              "<div>\n",
              "<style scoped>\n",
              "    .dataframe tbody tr th:only-of-type {\n",
              "        vertical-align: middle;\n",
              "    }\n",
              "\n",
              "    .dataframe tbody tr th {\n",
              "        vertical-align: top;\n",
              "    }\n",
              "\n",
              "    .dataframe thead th {\n",
              "        text-align: right;\n",
              "    }\n",
              "</style>\n",
              "<table border=\"1\" class=\"dataframe\">\n",
              "  <thead>\n",
              "    <tr style=\"text-align: right;\">\n",
              "      <th></th>\n",
              "      <th>0</th>\n",
              "    </tr>\n",
              "  </thead>\n",
              "  <tbody>\n",
              "    <tr>\n",
              "      <th>label</th>\n",
              "      <td>0</td>\n",
              "    </tr>\n",
              "    <tr>\n",
              "      <th>title</th>\n",
              "      <td>0</td>\n",
              "    </tr>\n",
              "    <tr>\n",
              "      <th>text</th>\n",
              "      <td>0</td>\n",
              "    </tr>\n",
              "    <tr>\n",
              "      <th>subject</th>\n",
              "      <td>0</td>\n",
              "    </tr>\n",
              "    <tr>\n",
              "      <th>date</th>\n",
              "      <td>0</td>\n",
              "    </tr>\n",
              "    <tr>\n",
              "      <th>word_count</th>\n",
              "      <td>0</td>\n",
              "    </tr>\n",
              "  </tbody>\n",
              "</table>\n",
              "</div><br><label><b>dtype:</b> int64</label>"
            ]
          },
          "metadata": {},
          "execution_count": 10
        }
      ]
    },
    {
      "cell_type": "code",
      "source": [
        "# Check for duplicate rows\n",
        "duplicate_count = df.duplicated().sum()\n",
        "print(f\"Number of duplicate rows: {duplicate_count}\")"
      ],
      "metadata": {
        "id": "K6dQdwR7qUBC",
        "colab": {
          "base_uri": "https://localhost:8080/"
        },
        "outputId": "bc6e7fc8-55e3-4556-b1ba-d9d0213c039a"
      },
      "execution_count": null,
      "outputs": [
        {
          "output_type": "stream",
          "name": "stdout",
          "text": [
            "Number of duplicate rows: 201\n"
          ]
        }
      ]
    },
    {
      "cell_type": "code",
      "source": [
        "df = df.drop_duplicates()"
      ],
      "metadata": {
        "id": "In07L9e7w_YJ"
      },
      "execution_count": null,
      "outputs": []
    },
    {
      "cell_type": "code",
      "source": [
        "# Check subject-label correlation\n",
        "subject_label_crosstab = pd.crosstab(df['subject'], df['label'])\n",
        "print(\"Subject vs. Label Crosstab:\")\n",
        "print(subject_label_crosstab)\n",
        "\n",
        "# Check date-label correlation (group by year)\n",
        "year_label_crosstab = pd.crosstab(df['date'], df['label'])\n",
        "print(\"\\nYear vs. Label Crosstab:\")\n",
        "print(year_label_crosstab)\n",
        "\n",
        "# Check for obvious text patterns (e.g., \"fake\" in fake articles)\n",
        "fake_articles = df[df['label'] == 0]['text'].str.lower()\n",
        "real_articles = df[df['label'] == 1]['text'].str.lower()\n",
        "print(\"\\nSample fake article (first 100 chars):\", fake_articles.iloc[0][:100])\n",
        "print(\"Sample real article (first 100 chars):\", real_articles.iloc[0][:100])"
      ],
      "metadata": {
        "id": "jvLZ8OE2BZTv",
        "colab": {
          "base_uri": "https://localhost:8080/"
        },
        "outputId": "11766ec2-1afd-4c95-93c7-b92aa1b8b11a"
      },
      "execution_count": null,
      "outputs": [
        {
          "output_type": "stream",
          "name": "stdout",
          "text": [
            "Subject vs. Label Crosstab:\n",
            "label               0      1\n",
            "subject                     \n",
            "Government News  1570      0\n",
            "News             9050      0\n",
            "left-news        2482      0\n",
            "politics         6838      0\n",
            "politicsNews        0  11220\n",
            "worldnews           0   8581\n",
            "\n",
            "Year vs. Label Crosstab:\n",
            "label                                               0  1\n",
            "date                                                    \n",
            "14-Feb-18                                           1  0\n",
            "15-Feb-18                                           9  0\n",
            "16-Feb-18                                           8  0\n",
            "17-Feb-18                                           7  0\n",
            "18-Feb-18                                           7  0\n",
            "...                                                .. ..\n",
            "https://100percentfedup.com/12-yr-old-black-con...  1  0\n",
            "https://100percentfedup.com/served-roy-moore-vi...  1  0\n",
            "https://100percentfedup.com/video-hillary-asked...  1  0\n",
            "https://fedup.wpengine.com/wp-content/uploads/2...  2  0\n",
            "https://fedup.wpengine.com/wp-content/uploads/2...  2  0\n",
            "\n",
            "[2392 rows x 2 columns]\n",
            "\n",
            "Sample fake article (first 100 chars): donald trump just couldn t wish all americans a happy new year and leave it at that. instead, he had\n",
            "Sample real article (first 100 chars): washington (reuters) - the head of a conservative republican faction in the u.s. congress, who voted\n"
          ]
        }
      ]
    },
    {
      "cell_type": "code",
      "source": [
        "# Check subject-label correlation (crosstab)\n",
        "subject_label_crosstab = pd.crosstab(df['subject'], df['label'])\n",
        "\n",
        "# Check year-label correlation (group by year)\n",
        "date_label_crosstab = pd.crosstab(df['date'], df['label'])\n",
        "\n",
        "# Plot heatmaps\n",
        "fig, (ax1, ax2) = plt.subplots(1, 2, figsize=(14, 6))\n",
        "\n",
        "# Heatmap for subject vs. label\n",
        "sns.heatmap(subject_label_crosstab, annot=True, fmt='d', cmap='Blues', ax=ax1)\n",
        "ax1.set_title('Subject vs. Label Correlation')\n",
        "ax1.set_xlabel('Label (0: Fake, 1: Real)')\n",
        "ax1.set_ylabel('Subject')\n",
        "\n",
        "# Heatmap for year vs. label (limiting to top 20 years for clarity)\n",
        "date_label_crosstab_top = date_label_crosstab.head(20)  # Adjust if needed\n",
        "sns.heatmap(date_label_crosstab_top, annot=True, fmt='d', cmap='Blues', ax=ax2)\n",
        "ax1.set_title('subject vs. Label Correlation (Top 20)')\n",
        "ax2.set_xlabel('Label (0: Fake, 1: Real)')\n",
        "ax2.set_ylabel('date')\n",
        "\n",
        "plt.tight_layout()\n",
        "plt.show()\n",
        "\n",
        "# Check for obvious text patterns (same as before)\n",
        "fake_articles = df[df['label'] == 0]['text'].str.lower()\n",
        "real_articles = df[df['label'] == 1]['text'].str.lower()\n",
        "print(\"\\nSample fake article (first 100 chars):\", fake_articles.iloc[0][:100])\n",
        "print(\"Sample real article (first 100 chars):\", real_articles.iloc[0][:100])"
      ],
      "metadata": {
        "id": "KPhh6yXhF8mM",
        "colab": {
          "base_uri": "https://localhost:8080/",
          "height": 547
        },
        "outputId": "94383f9d-546e-4c31-9d25-c083bb7d8035"
      },
      "execution_count": null,
      "outputs": [
        {
          "output_type": "display_data",
          "data": {
            "text/plain": [
              "<Figure size 1400x600 with 4 Axes>"
            ],
            "image/png": "[encoded data removed]"
          },
          "metadata": {}
        },
        {
          "output_type": "stream",
          "name": "stdout",
          "text": [
            "\n",
            "Sample fake article (first 100 chars): donald trump just couldn t wish all americans a happy new year and leave it at that. instead, he had\n",
            "Sample real article (first 100 chars): washington (reuters) - the head of a conservative republican faction in the u.s. congress, who voted\n"
          ]
        }
      ]
    },
    {
      "cell_type": "markdown",
      "source": [
        "#**📌 Step 3: Data Preprocessing**\n",
        "\n",
        "**Word Frequency Analysis and Rare Word Identification**"
      ],
      "metadata": {
        "id": "rP6R6P18-1Mc"
      }
    },
    {
      "cell_type": "code",
      "source": [
        "# Combine all text for frequency calculation\n",
        "all_words = ' '.join(df['text'].astype(str)).split()\n",
        "word_freq = Counter(all_words)\n",
        "\n",
        "# Identify rare words (frequency < 5)\n",
        "min_freq = 5\n",
        "rare_words = set(word for word, freq in word_freq.items() if freq < min_freq)\n",
        "print(f\"Number of rare words (frequency < {min_freq}): {len(rare_words)}\")\n",
        "\n",
        "# Print the top 20 most common words for context\n",
        "print(\"\\nTop 20 Most Common Words (before preprocessing):\")\n",
        "for word, freq in word_freq.most_common(20):\n",
        "    print(f\"{word}: {freq}\")\n",
        "\n",
        "# Print a sample of rare words\n",
        "print(\"\\nSample of Rare Words (first 10):\")\n",
        "print(list(rare_words)[:10])"
      ],
      "metadata": {
        "id": "HcB40pXmbpLt",
        "colab": {
          "base_uri": "https://localhost:8080/"
        },
        "outputId": "279f2d50-3dfa-401f-eee8-ae26460dd5d0"
      },
      "execution_count": null,
      "outputs": [
        {
          "output_type": "stream",
          "name": "stdout",
          "text": [
            "Number of rare words (frequency < 5): 290007\n",
            "\n",
            "Top 20 Most Common Words (before preprocessing):\n",
            "the: 763526\n",
            "to: 456993\n",
            "of: 367035\n",
            "a: 336421\n",
            "and: 330292\n",
            "in: 273283\n",
            "that: 191309\n",
            "on: 158876\n",
            "for: 144077\n",
            "s: 142721\n",
            "is: 136617\n",
            "with: 97549\n",
            "was: 97313\n",
            "he: 96252\n",
            "Trump: 95361\n",
            "said: 83984\n",
            "his: 82436\n",
            "The: 81280\n",
            "as: 80991\n",
            "by: 78093\n",
            "\n",
            "Sample of Rare Words (first 10):\n",
            "['instagram.com/p/BcaeCLLAEkl/', 'dullards', 'desensitization', 'beseeching', 'saviour', '‘10,', 'Tamils,', 'representative;', 'ago.Domain', 'pic.twitter.com/xpL69a5R8M']\n"
          ]
        }
      ]
    },
    {
      "cell_type": "markdown",
      "source": [
        "**Steps of the Preprocessing Text and Title:**\n",
        "\n",
        "\n",
        "1.   **Convert to String and Lowercase**\n",
        "*   The input text is first converted to a string using str(text) to ensure compatibility, even if the input is not already a string (e.g., handling numbers or NaN values).\n",
        "*   The text is then converted to lowercase using .lower() to standardize it and reduce case sensitivity (e.g., \"The\" and \"the\" are treated as the same word).\n",
        "\n",
        "\n",
        "2.   **Tokenization:**\n",
        "\n",
        "\n",
        "*   The text is split into individual words (tokens) using word_tokenize()\n",
        "\n",
        "3. **Remove Stop Words and Punctuation:**\n",
        "\n",
        "\n",
        "*   Remove common English stop words (e.g., \"the\", \"a\", \"is\")\n",
        "*   Remove Punctuation marks (e.g., \".\", \",\", \"!\")\n",
        "\n",
        "4. **Lemmatization:**\n",
        "We use lemmatization because it is designed to preserve the meaning of a word by reducing it to its base or dictionary form, which is ideal for our case of classifying news.\n",
        "\n",
        "5. Remove Rare Words:\n",
        "*   Remove the terms that might not be useful for analysis.\n",
        "\n",
        "6. Join Tokens Back into a String:\n",
        "*   joined tokens back together into a single string with spaces between them using ' '.join(tokens).**"
      ],
      "metadata": {
        "id": "p-6Ad5gcZGHr"
      }
    },
    {
      "cell_type": "code",
      "source": [
        "# Text preprocessing tools\n",
        "stop_words = set(stopwords.words('english'))\n",
        "lemmatizer = WordNetLemmatizer()\n",
        "punctuation = set(string.punctuation)\n",
        "\n",
        "# Define preprocessing function with rare word removal\n",
        "def preprocess_text(text):\n",
        "    tokens = word_tokenize(str(text).lower())  # Convert to string to handle NaN\n",
        "    tokens = [token for token in tokens if token not in stop_words and token not in punctuation]\n",
        "    tokens = [lemmatizer.lemmatize(token) for token in tokens]\n",
        "    tokens = [token for token in tokens if token not in rare_words]  # Remove rare words\n",
        "    return ' '.join(tokens) if tokens else ''  # Return empty string if no tokens remain\n",
        "\n",
        "# Apply to title and text\n",
        "df['title_processed'] = df['title'].apply(preprocess_text)\n",
        "df['text_processed'] = df['text'].apply(preprocess_text)\n",
        "\n",
        "# Check processed output for first row\n",
        "print(\"Processed Title:\", df['title_processed'][0])\n",
        "print(\"Processed Text (first 100 chars):\", df['text_processed'][0][:100])"
      ],
      "metadata": {
        "id": "Djp2wseU1Vzf",
        "colab": {
          "base_uri": "https://localhost:8080/"
        },
        "outputId": "052efbd5-960d-44d0-c071-7f4b6ede27da"
      },
      "execution_count": null,
      "outputs": [
        {
          "output_type": "stream",
          "name": "stdout",
          "text": [
            "Processed Title: u.s. budget fight loom republican flip fiscal script\n",
            "Processed Text (first 100 chars): washington head conservative republican faction u.s. congress voted month huge expansion national de\n"
          ]
        }
      ]
    },
    {
      "cell_type": "code",
      "source": [
        "df['title_processed'].head(10)"
      ],
      "metadata": {
        "id": "XA8xbfXv4FSp",
        "colab": {
          "base_uri": "https://localhost:8080/",
          "height": 398
        },
        "outputId": "199afd6b-12fd-4491-c6ea-e571cdc619dd"
      },
      "execution_count": null,
      "outputs": [
        {
          "output_type": "execute_result",
          "data": {
            "text/plain": [
              "0    u.s. budget fight loom republican flip fiscal ...\n",
              "1    u.s. military accept transgender recruit pentagon\n",
              "2      senior u.s. republican senator 'let mueller job\n",
              "3         probe helped australian diplomat tip-off nyt\n",
              "4    trump want postal service charge 'much amazon ...\n",
              "5    white house congress prepare talk spending imm...\n",
              "6            trump say probe fair timeline unclear nyt\n",
              "7          trump twitter dec 29 approval rating amazon\n",
              "8                  trump twitter dec 28 global warming\n",
              "9    alabama official certify senator-elect jones t...\n",
              "Name: title_processed, dtype: object"
            ],
            "text/html": [
              "<div>\n",
              "<style scoped>\n",
              "    .dataframe tbody tr th:only-of-type {\n",
              "        vertical-align: middle;\n",
              "    }\n",
              "\n",
              "    .dataframe tbody tr th {\n",
              "        vertical-align: top;\n",
              "    }\n",
              "\n",
              "    .dataframe thead th {\n",
              "        text-align: right;\n",
              "    }\n",
              "</style>\n",
              "<table border=\"1\" class=\"dataframe\">\n",
              "  <thead>\n",
              "    <tr style=\"text-align: right;\">\n",
              "      <th></th>\n",
              "      <th>title_processed</th>\n",
              "    </tr>\n",
              "  </thead>\n",
              "  <tbody>\n",
              "    <tr>\n",
              "      <th>0</th>\n",
              "      <td>u.s. budget fight loom republican flip fiscal ...</td>\n",
              "    </tr>\n",
              "    <tr>\n",
              "      <th>1</th>\n",
              "      <td>u.s. military accept transgender recruit pentagon</td>\n",
              "    </tr>\n",
              "    <tr>\n",
              "      <th>2</th>\n",
              "      <td>senior u.s. republican senator 'let mueller job</td>\n",
              "    </tr>\n",
              "    <tr>\n",
              "      <th>3</th>\n",
              "      <td>probe helped australian diplomat tip-off nyt</td>\n",
              "    </tr>\n",
              "    <tr>\n",
              "      <th>4</th>\n",
              "      <td>trump want postal service charge 'much amazon ...</td>\n",
              "    </tr>\n",
              "    <tr>\n",
              "      <th>5</th>\n",
              "      <td>white house congress prepare talk spending imm...</td>\n",
              "    </tr>\n",
              "    <tr>\n",
              "      <th>6</th>\n",
              "      <td>trump say probe fair timeline unclear nyt</td>\n",
              "    </tr>\n",
              "    <tr>\n",
              "      <th>7</th>\n",
              "      <td>trump twitter dec 29 approval rating amazon</td>\n",
              "    </tr>\n",
              "    <tr>\n",
              "      <th>8</th>\n",
              "      <td>trump twitter dec 28 global warming</td>\n",
              "    </tr>\n",
              "    <tr>\n",
              "      <th>9</th>\n",
              "      <td>alabama official certify senator-elect jones t...</td>\n",
              "    </tr>\n",
              "  </tbody>\n",
              "</table>\n",
              "</div><br><label><b>dtype:</b> object</label>"
            ]
          },
          "metadata": {},
          "execution_count": 17
        }
      ]
    },
    {
      "cell_type": "code",
      "source": [
        "df['text_processed'].head(10)"
      ],
      "metadata": {
        "colab": {
          "base_uri": "https://localhost:8080/",
          "height": 398
        },
        "id": "PM0bfO8irqst",
        "outputId": "6f26be40-af8d-43bf-d591-0a6b6aecf593"
      },
      "execution_count": null,
      "outputs": [
        {
          "output_type": "execute_result",
          "data": {
            "text/plain": [
              "0    washington head conservative republican factio...\n",
              "1    washington transgender people allowed first ti...\n",
              "2    washington special counsel investigation link ...\n",
              "3    washington trump campaign adviser papadopoulos...\n",
              "4    seattle/washington president donald trump call...\n",
              "5    west palm beach fla./washington white house sa...\n",
              "6    west palm beach fla president donald trump sai...\n",
              "7    following statement posted verified twitter ac...\n",
              "8    following statement posted verified twitter ac...\n",
              "9    washington alabama secretary state john merril...\n",
              "Name: text_processed, dtype: object"
            ],
            "text/html": [
              "<div>\n",
              "<style scoped>\n",
              "    .dataframe tbody tr th:only-of-type {\n",
              "        vertical-align: middle;\n",
              "    }\n",
              "\n",
              "    .dataframe tbody tr th {\n",
              "        vertical-align: top;\n",
              "    }\n",
              "\n",
              "    .dataframe thead th {\n",
              "        text-align: right;\n",
              "    }\n",
              "</style>\n",
              "<table border=\"1\" class=\"dataframe\">\n",
              "  <thead>\n",
              "    <tr style=\"text-align: right;\">\n",
              "      <th></th>\n",
              "      <th>text_processed</th>\n",
              "    </tr>\n",
              "  </thead>\n",
              "  <tbody>\n",
              "    <tr>\n",
              "      <th>0</th>\n",
              "      <td>washington head conservative republican factio...</td>\n",
              "    </tr>\n",
              "    <tr>\n",
              "      <th>1</th>\n",
              "      <td>washington transgender people allowed first ti...</td>\n",
              "    </tr>\n",
              "    <tr>\n",
              "      <th>2</th>\n",
              "      <td>washington special counsel investigation link ...</td>\n",
              "    </tr>\n",
              "    <tr>\n",
              "      <th>3</th>\n",
              "      <td>washington trump campaign adviser papadopoulos...</td>\n",
              "    </tr>\n",
              "    <tr>\n",
              "      <th>4</th>\n",
              "      <td>seattle/washington president donald trump call...</td>\n",
              "    </tr>\n",
              "    <tr>\n",
              "      <th>5</th>\n",
              "      <td>west palm beach fla./washington white house sa...</td>\n",
              "    </tr>\n",
              "    <tr>\n",
              "      <th>6</th>\n",
              "      <td>west palm beach fla president donald trump sai...</td>\n",
              "    </tr>\n",
              "    <tr>\n",
              "      <th>7</th>\n",
              "      <td>following statement posted verified twitter ac...</td>\n",
              "    </tr>\n",
              "    <tr>\n",
              "      <th>8</th>\n",
              "      <td>following statement posted verified twitter ac...</td>\n",
              "    </tr>\n",
              "    <tr>\n",
              "      <th>9</th>\n",
              "      <td>washington alabama secretary state john merril...</td>\n",
              "    </tr>\n",
              "  </tbody>\n",
              "</table>\n",
              "</div><br><label><b>dtype:</b> object</label>"
            ]
          },
          "metadata": {},
          "execution_count": 18
        }
      ]
    },
    {
      "cell_type": "code",
      "source": [
        "# Function to check for URLs\n",
        "def has_url(text):\n",
        "    url_pattern = r'http[s]?://(?:[a-zA-Z]|[0-9]|[$-_@.&+]|[!*\\\\(\\\\),]|(?:%[0-9a-fA-F][0-9a-fA-F]))+|www\\.[a-zA-Z0-9.-]+'\n",
        "    return bool(re.search(url_pattern, text))\n",
        "\n",
        "# Check for URLs in title_processed\n",
        "df['has_url_title'] = df['title_processed'].apply(has_url)\n",
        "url_titles = df[df['has_url_title']]\n",
        "print(\"Articles with URLs in title_processed:\")\n",
        "print(url_titles[['title_processed', 'label']])\n",
        "print(f\"Total with URLs in title: {len(url_titles)}\")\n",
        "print(f\"Breakdown by label: {url_titles['label'].value_counts()}\")\n",
        "\n",
        "# Check for URLs in text_processed\n",
        "df['has_url_text'] = df['text_processed'].apply(has_url)\n",
        "url_texts = df[df['has_url_text']]\n",
        "print(\"\\nArticles with URLs in text_processed:\")\n",
        "print(url_texts[['text_processed', 'label']])\n",
        "print(f\"Total with URLs in text: {len(url_texts)}\")\n",
        "print(f\"Breakdown by label: {url_texts['label'].value_counts()}\")\n",
        "\n",
        "# Overall summary\n",
        "total_with_urls = len(df[df['has_url_title'] | df['has_url_text']])\n",
        "print(f\"\\nTotal articles with URLs in title or text: {total_with_urls}\")\n",
        "print(f\"Percentage of dataset with URLs: {(total_with_urls / len(df)) * 100:.2f}%\")"
      ],
      "metadata": {
        "colab": {
          "base_uri": "https://localhost:8080/"
        },
        "id": "OAp2Dteqsi3H",
        "outputId": "6ebf6032-d067-4655-a710-2027047c3d18"
      },
      "execution_count": null,
      "outputs": [
        {
          "output_type": "stream",
          "name": "stdout",
          "text": [
            "Articles with URLs in title_processed:\n",
            "Empty DataFrame\n",
            "Columns: [title_processed, label]\n",
            "Index: []\n",
            "Total with URLs in title: 0\n",
            "Breakdown by label: Series([], Name: count, dtype: int64)\n",
            "\n",
            "Articles with URLs in text_processed:\n",
            "                                          text_processed  label\n",
            "680    angeles convincing big u.s. dairy owner buy ro...      1\n",
            "852    new york many immigration initiative launched ...      1\n",
            "884    washington president donald trump announced oc...      1\n",
            "1379   washington hundred government employee file u....      1\n",
            "1422   nogales arizona two thousand mile away healthc...      1\n",
            "...                                                  ...    ...\n",
            "39403  video featured youtube prankster named adam sa...      0\n",
            "39421  michelle obama told oprah winfrey final interv...      0\n",
            "39494         http //www.youtube.com/watch v=_fnt3ns_ega      0\n",
            "39833  wow hillary stop sending people website debate...      0\n",
            "39937  left organizing decade soros funding chaos occ...      0\n",
            "\n",
            "[605 rows x 2 columns]\n",
            "Total with URLs in text: 605\n",
            "Breakdown by label: label\n",
            "0    579\n",
            "1     26\n",
            "Name: count, dtype: int64\n",
            "\n",
            "Total articles with URLs in title or text: 605\n",
            "Percentage of dataset with URLs: 1.52%\n"
          ]
        }
      ]
    },
    {
      "cell_type": "markdown",
      "source": [
        "#**Observation**\n",
        "\n",
        "\n",
        "*   Title_processed: No URLs found (empty DataFrame), which is the titles are clean in this regard.\n",
        "*   Text_processed:\n",
        "\n",
        "    *   621 articles contain URLs (out of ~39,952 total, or 1.55% of the dataset).\n",
        "    *   Breakdown by label:\n",
        "        \n",
        "          *   583 fake (label 0).\n",
        "          *   38 real (label 1).\n",
        "    *   This indicates a strong correlation between URLs and the fake label (583/621 = 93.88% of URL-containing articles are fake).\n",
        "\n",
        "\n",
        "\n",
        "\n",
        "\n"
      ],
      "metadata": {
        "id": "mgFTo5Ixvoam"
      }
    },
    {
      "cell_type": "markdown",
      "source": [
        "#**Next Step : Remove URLs from Processed Text**"
      ],
      "metadata": {
        "id": "p_vh78ZoxpKr"
      }
    },
    {
      "cell_type": "code",
      "source": [
        "# Function to remove URLs\n",
        "def clean_urls(text):\n",
        "    url_pattern = r'http[s]?://(?:[a-zA-Z]|[0-9]|[$-_@.&+]|[!*\\\\(\\\\),]|(?:%[0-9a-fA-F][0-9a-fA-F]))+|www\\.[a-zA-Z0-9.-]+'\n",
        "    return re.sub(url_pattern, '', text, flags=re.MULTILINE).strip()\n",
        "\n",
        "# Apply cleaning to title and text\n",
        "df['text_processed'] = df['text_processed'].apply(clean_urls)"
      ],
      "metadata": {
        "id": "AL0r0kY4xzU4"
      },
      "execution_count": null,
      "outputs": []
    },
    {
      "cell_type": "markdown",
      "source": [
        "#**📌 Step 4: Split Data into Training and Test Sets**\n",
        "\n",
        "**Split the dataset into training (80%) and test (20%) sets before feature extraction to prevent data leakage.**\n",
        "\n",
        "\n"
      ],
      "metadata": {
        "id": "GkyAOn8q5Ff6"
      }
    },
    {
      "cell_type": "code",
      "source": [
        "# Define features (raw processed text) and labels\n",
        "X_title = df['title_processed']\n",
        "X_text = df['text_processed']\n",
        "y = df['label']\n",
        "\n",
        "# Split the data\n",
        "X_title_train, X_title_test, X_text_train, X_text_test, y_train, y_test = train_test_split(\n",
        "    X_title, X_text, y, test_size=0.2, random_state=42\n",
        ")\n",
        "\n",
        "print(\"Training set size:\", len(X_title_train))\n",
        "print(\"Test set size:\", len(X_title_test))"
      ],
      "metadata": {
        "id": "_HaqVLHRkzpe",
        "colab": {
          "base_uri": "https://localhost:8080/"
        },
        "outputId": "c191da69-0ac9-4fd3-f84e-a69b33ba3f48"
      },
      "execution_count": null,
      "outputs": [
        {
          "output_type": "stream",
          "name": "stdout",
          "text": [
            "Training set size: 31792\n",
            "Test set size: 7949\n"
          ]
        }
      ]
    },
    {
      "cell_type": "markdown",
      "source": [
        "#**📌 Step 5: Apply TF-IDF Feature Extraction**\n",
        "**Fit the TF-IDF vectorizer on the training data only, then transform both training and test sets to create feature matrices for `title` and `text`.**"
      ],
      "metadata": {
        "id": "YfjUUXjDk8S7"
      }
    },
    {
      "cell_type": "code",
      "source": [
        "# Initialize TF-IDF vectorizers\n",
        "tfidf_title = TfidfVectorizer(max_features=5000, min_df=5, ngram_range=(1, 2))\n",
        "tfidf_text = TfidfVectorizer(max_features=10000, min_df=5, ngram_range=(1, 2))\n",
        "\n",
        "# Fit and transform on training data\n",
        "title_tfidf_train = tfidf_title.fit_transform(X_title_train)\n",
        "text_tfidf_train = tfidf_text.fit_transform(X_text_train)\n",
        "\n",
        "# Transform test data (do NOT fit on test data)\n",
        "title_tfidf_test = tfidf_title.transform(X_title_test)\n",
        "text_tfidf_test = tfidf_text.transform(X_text_test)\n",
        "\n",
        "# Combine features for training and test sets\n",
        "X_train = hstack([title_tfidf_train, text_tfidf_train])\n",
        "X_test = hstack([title_tfidf_test, text_tfidf_test])\n",
        "\n",
        "print(\"Training feature matrix shape:\", X_train.shape)\n",
        "print(\"Test feature matrix shape:\", X_test.shape)"
      ],
      "metadata": {
        "id": "41UoSvjVlO12",
        "colab": {
          "base_uri": "https://localhost:8080/"
        },
        "outputId": "76d1d3b0-1cd9-4ad7-81c6-4b21ef73fd7d"
      },
      "execution_count": null,
      "outputs": [
        {
          "output_type": "stream",
          "name": "stdout",
          "text": [
            "Training feature matrix shape: (31792, 15000)\n",
            "Test feature matrix shape: (7949, 15000)\n"
          ]
        }
      ]
    },
    {
      "cell_type": "markdown",
      "source": [
        "#**📌 Step 6: Train and Evaluate Logistic Regression Model**\n",
        "**Train a Logistic Regression model on the TF-IDF features and evaluate its performance on the test set using accuracy and classification report.**"
      ],
      "metadata": {
        "id": "_GHB1N605ade"
      }
    },
    {
      "cell_type": "code",
      "source": [
        "# Train Logistic Regression\n",
        "model = LogisticRegression(max_iter=1000)\n",
        "model.fit(X_train, y_train)\n",
        "\n",
        "# Predict and evaluate on test data\n",
        "y_pred = model.predict(X_test)\n",
        "print(\"Test Accuracy:\", accuracy_score(y_test, y_pred))\n",
        "print(\"Test Classification Report:\\n\", classification_report(y_test, y_pred))"
      ],
      "metadata": {
        "id": "XlPbcyZ8oLs6",
        "colab": {
          "base_uri": "https://localhost:8080/"
        },
        "outputId": "d534b19d-22e4-451e-f9a6-824eaf32b861"
      },
      "execution_count": null,
      "outputs": [
        {
          "output_type": "stream",
          "name": "stdout",
          "text": [
            "Test Accuracy: 0.9903132469493018\n",
            "Test Classification Report:\n",
            "               precision    recall  f1-score   support\n",
            "\n",
            "           0       0.99      0.99      0.99      3970\n",
            "           1       0.99      0.99      0.99      3979\n",
            "\n",
            "    accuracy                           0.99      7949\n",
            "   macro avg       0.99      0.99      0.99      7949\n",
            "weighted avg       0.99      0.99      0.99      7949\n",
            "\n"
          ]
        }
      ]
    },
    {
      "cell_type": "code",
      "source": [
        "# Predict and evaluate on training data (for overfitting check)\n",
        "y_train_pred = model.predict(X_train)\n",
        "print(\"\\nTraining Accuracy:\", accuracy_score(y_train, y_train_pred))"
      ],
      "metadata": {
        "id": "fta0RDpX_JCp",
        "colab": {
          "base_uri": "https://localhost:8080/"
        },
        "outputId": "19bc2eb7-f3a8-4cbb-f737-35486e5a7765"
      },
      "execution_count": null,
      "outputs": [
        {
          "output_type": "stream",
          "name": "stdout",
          "text": [
            "\n",
            "Training Accuracy: 0.9969803724207348\n"
          ]
        }
      ]
    },
    {
      "cell_type": "code",
      "source": [
        "from sklearn.metrics import accuracy_score, classification_report, confusion_matrix, ConfusionMatrixDisplay\n",
        "\n",
        "# Confusion matrix for training data\n",
        "train_cm = confusion_matrix(y_train, y_train_pred, labels=[0, 1])\n",
        "print(\"\\nTraining Confusion Matrix:\")\n",
        "print(train_cm)\n",
        "\n",
        "# Confusion matrix for test data\n",
        "test_cm = confusion_matrix(y_test, y_pred, labels=[0, 1])\n",
        "print(\"\\nTest Confusion Matrix:\")\n",
        "print(test_cm)\n",
        "\n",
        "# Visualize confusion matrices\n",
        "fig, (ax1, ax2) = plt.subplots(1, 2, figsize=(12, 5))\n",
        "\n",
        "# Training confusion matrix plot\n",
        "ConfusionMatrixDisplay(confusion_matrix=train_cm, display_labels=['Fake (0)', 'Real (1)']).plot(ax=ax1, cmap='Blues')\n",
        "ax1.set_title(\"Training Confusion Matrix\")\n",
        "\n",
        "# Test confusion matrix plot\n",
        "ConfusionMatrixDisplay(confusion_matrix=test_cm, display_labels=['Fake (0)', 'Real (1)']).plot(ax=ax2, cmap='Blues')\n",
        "ax2.set_title(\"Test Confusion Matrix\")\n",
        "\n",
        "plt.tight_layout()\n",
        "plt.show()"
      ],
      "metadata": {
        "id": "2P12PHk1_LXj",
        "colab": {
          "base_uri": "https://localhost:8080/",
          "height": 606
        },
        "outputId": "6093e602-3d37-4231-b6ae-e1ed1bbc75cb"
      },
      "execution_count": null,
      "outputs": [
        {
          "output_type": "stream",
          "name": "stdout",
          "text": [
            "\n",
            "Training Confusion Matrix:\n",
            "[[15912    58]\n",
            " [   38 15784]]\n",
            "\n",
            "Test Confusion Matrix:\n",
            "[[3925   45]\n",
            " [  32 3947]]\n"
          ]
        },
        {
          "output_type": "display_data",
          "data": {
            "text/plain": [
              "<Figure size 1200x500 with 4 Axes>"
            ],
            "image/png": "[encoded data removed]"
          },
          "metadata": {}
        }
      ]
    },
    {
      "cell_type": "code",
      "source": [
        "from sklearn.svm import SVC\n",
        "\n",
        "# Train SVM model\n",
        "svm_model = SVC(kernel='rbf', random_state=42)  # You can adjust kernel (e.g., 'linear', 'rbf', 'poly')\n",
        "svm_model.fit(X_train, y_train)\n",
        "\n",
        "# Predict and evaluate on test data\n",
        "y_pred_svm = svm_model.predict(X_test)\n",
        "print(\"Test Accuracy (SVM):\", accuracy_score(y_test, y_pred_svm))\n",
        "print(\"Test Classification Report (SVM):\\n\", classification_report(y_test, y_pred_svm))"
      ],
      "metadata": {
        "colab": {
          "base_uri": "https://localhost:8080/"
        },
        "id": "MciGdrDpF4Jv",
        "outputId": "1942fb18-d9dd-4f02-b180-7b6e2471f6da"
      },
      "execution_count": null,
      "outputs": [
        {
          "output_type": "stream",
          "name": "stdout",
          "text": [
            "Test Accuracy (SVM): 0.9927034847150585\n",
            "Test Classification Report (SVM):\n",
            "               precision    recall  f1-score   support\n",
            "\n",
            "           0       0.99      0.99      0.99      3970\n",
            "           1       0.99      0.99      0.99      3979\n",
            "\n",
            "    accuracy                           0.99      7949\n",
            "   macro avg       0.99      0.99      0.99      7949\n",
            "weighted avg       0.99      0.99      0.99      7949\n",
            "\n"
          ]
        }
      ]
    },
    {
      "cell_type": "code",
      "source": [
        "# Predict and evaluate on training data (for overfitting check)\n",
        "y_train_pred_svm = svm_model.predict(X_train)\n",
        "print(\"\\nTraining Accuracy (SVM):\", accuracy_score(y_train, y_train_pred_svm))"
      ],
      "metadata": {
        "colab": {
          "base_uri": "https://localhost:8080/"
        },
        "id": "vbL9W_y4GW2R",
        "outputId": "aba493d3-64a9-406b-8e5a-ca680646dce8"
      },
      "execution_count": null,
      "outputs": [
        {
          "output_type": "stream",
          "name": "stdout",
          "text": [
            "\n",
            "Training Accuracy (SVM): 0.9997483643683945\n"
          ]
        }
      ]
    },
    {
      "cell_type": "code",
      "source": [
        "# Confusion matrix for training data\n",
        "train_cm_svm = confusion_matrix(y_train, y_train_pred_svm, labels=[0, 1])\n",
        "print(\"\\nTraining Confusion Matrix (SVM):\")\n",
        "print(train_cm_svm)\n",
        "\n",
        "# Confusion matrix for test data\n",
        "test_cm_svm = confusion_matrix(y_test, y_pred_svm, labels=[0, 1])\n",
        "print(\"\\nTest Confusion Matrix (SVM):\")\n",
        "print(test_cm_svm)\n",
        "\n",
        "# Visualize confusion matrices\n",
        "fig, (ax1, ax2) = plt.subplots(1, 2, figsize=(12, 5))\n",
        "\n",
        "# Training confusion matrix plot\n",
        "ConfusionMatrixDisplay(confusion_matrix=train_cm_svm, display_labels=['Fake (0)', 'Real (1)']).plot(ax=ax1, cmap='Blues')\n",
        "ax1.set_title(\"Training Confusion Matrix (SVM)\")\n",
        "\n",
        "# Test confusion matrix plot\n",
        "ConfusionMatrixDisplay(confusion_matrix=test_cm_svm, display_labels=['Fake (0)', 'Real (1)']).plot(ax=ax2, cmap='Blues')\n",
        "ax2.set_title(\"Test Confusion Matrix (SVM)\")\n",
        "\n",
        "plt.tight_layout()\n",
        "plt.show()"
      ],
      "metadata": {
        "colab": {
          "base_uri": "https://localhost:8080/",
          "height": 606
        },
        "id": "UkIEias4Gbzj",
        "outputId": "38a6c2e5-de82-4ef2-fc8d-b5a674005df1"
      },
      "execution_count": null,
      "outputs": [
        {
          "output_type": "stream",
          "name": "stdout",
          "text": [
            "\n",
            "Training Confusion Matrix (SVM):\n",
            "[[15969     1]\n",
            " [    7 15815]]\n",
            "\n",
            "Test Confusion Matrix (SVM):\n",
            "[[3938   32]\n",
            " [  26 3953]]\n"
          ]
        },
        {
          "output_type": "display_data",
          "data": {
            "text/plain": [
              "<Figure size 1200x500 with 4 Axes>"
            ],
            "image/png": "[encoded data removed]"
          },
          "metadata": {}
        }
      ]
    },
    {
      "cell_type": "code",
      "source": [
        "import joblib\n",
        "from google.colab import files\n",
        "\n",
        "# Save the trained model\n",
        "joblib.dump(svm_model, 'svm_model.pkl')\n",
        "\n",
        "# Download the file\n",
        "files.download('svm_model.pkl')"
      ],
      "metadata": {
        "colab": {
          "base_uri": "https://localhost:8080/",
          "height": 17
        },
        "id": "os_3UK3faDfT",
        "outputId": "0c2bcce4-e3da-4419-f740-6318ea1beb7c"
      },
      "execution_count": null,
      "outputs": [
        {
          "output_type": "display_data",
          "data": {
            "text/plain": [
              "<IPython.core.display.Javascript object>"
            ],
            "application/javascript": [
              "\n",
              "    async function download(id, filename, size) {\n",
              "      if (!google.colab.kernel.accessAllowed) {\n",
              "        return;\n",
              "      }\n",
              "      const div = document.createElement('div');\n",
              "      const label = document.createElement('label');\n",
              "      label.textContent = `Downloading \"${filename}\": `;\n",
              "      div.appendChild(label);\n",
              "      const progress = document.createElement('progress');\n",
              "      progress.max = size;\n",
              "      div.appendChild(progress);\n",
              "      document.body.appendChild(div);\n",
              "\n",
              "      const buffers = [];\n",
              "      let downloaded = 0;\n",
              "\n",
              "      const channel = await google.colab.kernel.comms.open(id);\n",
              "      // Send a message to notify the kernel that we're ready.\n",
              "      channel.send({})\n",
              "\n",
              "      for await (const message of channel.messages) {\n",
              "        // Send a message to notify the kernel that we're ready.\n",
              "        channel.send({})\n",
              "        if (message.buffers) {\n",
              "          for (const buffer of message.buffers) {\n",
              "            buffers.push(buffer);\n",
              "            downloaded += buffer.byteLength;\n",
              "            progress.value = downloaded;\n",
              "          }\n",
              "        }\n",
              "      }\n",
              "      const blob = new Blob(buffers, {type: 'application/binary'});\n",
              "      const a = document.createElement('a');\n",
              "      a.href = window.URL.createObjectURL(blob);\n",
              "      a.download = filename;\n",
              "      div.appendChild(a);\n",
              "      a.click();\n",
              "      div.remove();\n",
              "    }\n",
              "  "
            ]
          },
          "metadata": {}
        },
        {
          "output_type": "display_data",
          "data": {
            "text/plain": [
              "<IPython.core.display.Javascript object>"
            ],
            "application/javascript": [
              "download(\"download_55520366-bed1-4cc4-94eb-a9205055e808\", \"svm_model.pkl\", 19398523)"
            ]
          },
          "metadata": {}
        }
      ]
    },
    {
      "cell_type": "markdown",
      "source": [
        "#**📌 Step 7: Building CNN with Embeddings**\n",
        "```\n",
        "This section implements Kim’s CNN architecture using pre-trained GloVe embeddings for fake news classification. The process includes:\n",
        "\n",
        "1.   loading embeddings\n",
        "2.   calculating the maximum token length\n",
        "3.   preprocessing sequences\n",
        "4.   building and training the model\n",
        "5.   evaluating performance\n",
        "\n",
        "```\n",
        "\n"
      ],
      "metadata": {
        "id": "XjmUHhsTRNda"
      }
    },
    {
      "cell_type": "code",
      "source": [
        "# Install tensorflow and gensim\n",
        "!pip install tensorflow gensim -q"
      ],
      "metadata": {
        "id": "VoI_Tf4fTrTA",
        "colab": {
          "base_uri": "https://localhost:8080/"
        },
        "outputId": "fa1246d1-48fa-418c-e797-ad7f7509a074"
      },
      "execution_count": null,
      "outputs": [
        {
          "output_type": "stream",
          "name": "stdout",
          "text": [
            "\u001b[2K     \u001b[90m━━━━━━━━━━━━━━━━━━━━━━━━━━━━━━━━━━━━━━━━\u001b[0m \u001b[32m60.6/60.6 kB\u001b[0m \u001b[31m4.3 MB/s\u001b[0m eta \u001b[36m0:00:00\u001b[0m\n",
            "\u001b[2K   \u001b[90m━━━━━━━━━━━━━━━━━━━━━━━━━━━━━━━━━━━━━━━━\u001b[0m \u001b[32m26.7/26.7 MB\u001b[0m \u001b[31m90.2 MB/s\u001b[0m eta \u001b[36m0:00:00\u001b[0m\n",
            "\u001b[2K   \u001b[90m━━━━━━━━━━━━━━━━━━━━━━━━━━━━━━━━━━━━━━━━\u001b[0m \u001b[32m38.6/38.6 MB\u001b[0m \u001b[31m59.0 MB/s\u001b[0m eta \u001b[36m0:00:00\u001b[0m\n",
            "\u001b[?25h"
          ]
        }
      ]
    },
    {
      "cell_type": "code",
      "source": [
        "# Import libraries\n",
        "from gensim.models import KeyedVectors\n",
        "from tensorflow.keras.models import Sequential\n",
        "from tensorflow.keras.layers import Conv1D, MaxPooling1D, Dense, Flatten, Dropout, Embedding\n",
        "from tensorflow.keras.preprocessing.sequence import pad_sequences\n",
        "from sklearn.metrics import ConfusionMatrixDisplay"
      ],
      "metadata": {
        "id": "nQtK4nPuTnHK"
      },
      "execution_count": null,
      "outputs": []
    },
    {
      "cell_type": "code",
      "source": [
        "# Install wget to download GloVe if it's not already downloaded\n",
        "!pip install wget -q\n",
        "!wget http://nlp.stanford.edu/data/glove.6B.zip\n",
        "!unzip glove.6B.zip"
      ],
      "metadata": {
        "colab": {
          "base_uri": "https://localhost:8080/"
        },
        "id": "wIia1yZsux9S",
        "outputId": "67714c8f-7321-41ed-fa80-bee22f11ff1a"
      },
      "execution_count": null,
      "outputs": [
        {
          "output_type": "stream",
          "name": "stdout",
          "text": [
            "  Preparing metadata (setup.py) ... \u001b[?25l\u001b[?25hdone\n",
            "  Building wheel for wget (setup.py) ... \u001b[?25l\u001b[?25hdone\n",
            "--2025-03-17 01:32:35--  http://nlp.stanford.edu/data/glove.6B.zip\n",
            "Resolving nlp.stanford.edu (nlp.stanford.edu)... 171.64.67.140\n",
            "Connecting to nlp.stanford.edu (nlp.stanford.edu)|171.64.67.140|:80... connected.\n",
            "HTTP request sent, awaiting response... 302 Found\n",
            "Location: https://nlp.stanford.edu/data/glove.6B.zip [following]\n",
            "--2025-03-17 01:32:36--  https://nlp.stanford.edu/data/glove.6B.zip\n",
            "Connecting to nlp.stanford.edu (nlp.stanford.edu)|171.64.67.140|:443... connected.\n",
            "HTTP request sent, awaiting response... 301 Moved Permanently\n",
            "Location: https://downloads.cs.stanford.edu/nlp/data/glove.6B.zip [following]\n",
            "--2025-03-17 01:32:36--  https://downloads.cs.stanford.edu/nlp/data/glove.6B.zip\n",
            "Resolving downloads.cs.stanford.edu (downloads.cs.stanford.edu)... 171.64.64.22\n",
            "Connecting to downloads.cs.stanford.edu (downloads.cs.stanford.edu)|171.64.64.22|:443... connected.\n",
            "HTTP request sent, awaiting response... 200 OK\n",
            "Length: 862182613 (822M) [application/zip]\n",
            "Saving to: ‘glove.6B.zip’\n",
            "\n",
            "glove.6B.zip        100%[===================>] 822.24M  5.03MB/s    in 2m 39s  \n",
            "\n",
            "2025-03-17 01:35:16 (5.17 MB/s) - ‘glove.6B.zip’ saved [862182613/862182613]\n",
            "\n",
            "Archive:  glove.6B.zip\n",
            "  inflating: glove.6B.50d.txt        \n",
            "  inflating: glove.6B.100d.txt       \n",
            "  inflating: glove.6B.200d.txt       \n",
            "  inflating: glove.6B.300d.txt       \n"
          ]
        }
      ]
    },
    {
      "cell_type": "code",
      "source": [
        "from gensim.models import KeyedVectors\n",
        "\n",
        "# Function to convert GloVe to Word2Vec format\n",
        "def glove_to_word2vec(glove_file, word2vec_output_file):\n",
        "    with open(glove_file, \"r\", encoding=\"utf-8\") as f_in, open(word2vec_output_file, \"w\", encoding=\"utf-8\") as f_out:\n",
        "        lines = f_in.readlines()\n",
        "        vocab_size, vector_size = len(lines), len(lines[0].split()) - 1\n",
        "        f_out.write(f\"{vocab_size} {vector_size}\\n\")  # Add header\n",
        "        f_out.writelines(lines)\n",
        "\n",
        "# Convert GloVe to Word2Vec format\n",
        "word2vec_file = \"/content/glove.6B.300d_word2vec.txt\"\n",
        "glove_to_word2vec(\"/content/glove.6B.300d.txt\", word2vec_file)\n",
        "\n",
        "# Load pre-trained embeddings\n",
        "word_vectors = KeyedVectors.load_word2vec_format(word2vec_file, binary=False)\n"
      ],
      "metadata": {
        "id": "GWPAcA5fQ6xz"
      },
      "execution_count": null,
      "outputs": []
    },
    {
      "cell_type": "code",
      "source": [
        "import numpy as np\n",
        "\n",
        "# Create embedding matrix\n",
        "vocab = word_vectors.key_to_index  # Get vocabulary\n",
        "embedding_dim = 300\n",
        "embedding_matrix = np.zeros((len(vocab) + 2, embedding_dim))  # +2 to handle OOV words safely\n",
        "\n",
        "for word, i in vocab.items():\n",
        "    embedding_matrix[i + 1] = word_vectors[word]  # Shift index by +1 to avoid 0 being OOV\n"
      ],
      "metadata": {
        "id": "1O1j5G_6mhDg"
      },
      "execution_count": null,
      "outputs": []
    },
    {
      "cell_type": "markdown",
      "source": [
        "**Tokenize and Pad Sequences**"
      ],
      "metadata": {
        "id": "RI3V1uc2m3E0"
      }
    },
    {
      "cell_type": "code",
      "source": [
        "from tensorflow.keras.preprocessing.sequence import pad_sequences\n",
        "\n",
        "# Function to tokenize and pad sequences\n",
        "def get_sequences(texts):\n",
        "    sequences = [[vocab.get(word, 0) + 1 for word in text.split()] for text in texts]\n",
        "    return pad_sequences(sequences, maxlen=max_length, padding='post', truncating='post')\n",
        "\n",
        "df['combined'] = df['title_processed'] + ' ' + df['text_processed']\n",
        "\n",
        "# Calculate max_length dynamically\n",
        "token_lengths = [len(doc.split()) for doc in df['combined']]\n",
        "max_length = int(np.percentile(token_lengths, 95))  # 95th percentile\n",
        "print(f\"✅ Chosen max_length (95th percentile): {max_length}\")\n",
        "\n",
        "# Convert text to padded sequences\n",
        "X_sequences = get_sequences(df['combined'])\n",
        "y = df['label']\n",
        "\n",
        "# Train-test split\n",
        "from sklearn.model_selection import train_test_split\n",
        "X_train_seq, X_test_seq, y_train, y_test = train_test_split(X_sequences, y, test_size=0.2, random_state=42)\n"
      ],
      "metadata": {
        "id": "1Vi6QLbEm0Q-",
        "colab": {
          "base_uri": "https://localhost:8080/"
        },
        "outputId": "8819d49d-d61d-4318-b136-37d871758d7f"
      },
      "execution_count": null,
      "outputs": [
        {
          "output_type": "stream",
          "name": "stdout",
          "text": [
            "✅ Chosen max_length (95th percentile): 515\n"
          ]
        }
      ]
    },
    {
      "cell_type": "markdown",
      "source": [
        "**Split Data**"
      ],
      "metadata": {
        "id": "TGMy-U3LnCB1"
      }
    },
    {
      "cell_type": "code",
      "source": [
        "# Split data\n",
        "X_train_seq, X_test_seq, y_train, y_test = train_test_split(X_sequences, y, test_size=0.2, random_state=42)"
      ],
      "metadata": {
        "id": "9lYIPTirnEhZ"
      },
      "execution_count": null,
      "outputs": []
    },
    {
      "cell_type": "markdown",
      "source": [
        "**Build and Compile Kim’s CNN Model**"
      ],
      "metadata": {
        "id": "s2SB7kL_nLVA"
      }
    },
    {
      "cell_type": "code",
      "source": [
        "from tensorflow.keras.models import Sequential\n",
        "from tensorflow.keras.layers import Input, Embedding, Conv1D, MaxPooling1D, Flatten, Dense, Dropout\n",
        "\n",
        "# Define model input shape\n",
        "embedding_dim = 300\n",
        "vocab_size = embedding_matrix.shape[0]\n",
        "max_length = 515  # Match Streamlit's MAX_LEN\n",
        "\n",
        "# CNN Model Architecture (Fixed)\n",
        "model = Sequential([\n",
        "    Input(shape=(max_length,)),\n",
        "    Embedding(input_dim=vocab_size, output_dim=embedding_dim, weights=[embedding_matrix], trainable=False),\n",
        "\n",
        "    Conv1D(128, kernel_size=3, activation='relu'),\n",
        "    MaxPooling1D(pool_size=2),\n",
        "\n",
        "    Conv1D(128, kernel_size=4, activation='relu'),\n",
        "    MaxPooling1D(pool_size=2),\n",
        "\n",
        "    Conv1D(128, kernel_size=5, activation='relu'),\n",
        "    MaxPooling1D(pool_size=2),\n",
        "\n",
        "    Flatten(),\n",
        "    Dense(128, activation='relu'),\n",
        "    Dropout(0.5),\n",
        "    Dense(1, activation='sigmoid')  # Binary Classification Output\n",
        "])\n",
        "\n",
        "# Compile the model\n",
        "model.compile(optimizer='adam', loss='binary_crossentropy', metrics=['accuracy'])\n",
        "\n",
        "# Print Model Summary\n",
        "model.summary()\n"
      ],
      "metadata": {
        "colab": {
          "base_uri": "https://localhost:8080/",
          "height": 496
        },
        "id": "GFtqLhafnLvF",
        "outputId": "bfe9110d-927c-4035-ce7f-f46125c31082"
      },
      "execution_count": null,
      "outputs": [
        {
          "output_type": "display_data",
          "data": {
            "text/plain": [
              "\u001b[1mModel: \"sequential_6\"\u001b[0m\n"
            ],
            "text/html": [
              "<pre style=\"white-space:pre;overflow-x:auto;line-height:normal;font-family:Menlo,'DejaVu Sans Mono',consolas,'Courier New',monospace\"><span style=\"font-weight: bold\">Model: \"sequential_6\"</span>\n",
              "</pre>\n"
            ]
          },
          "metadata": {}
        },
        {
          "output_type": "display_data",
          "data": {
            "text/plain": [
              "┏━━━━━━━━━━━━━━━━━━━━━━━━━━━━━━━━━━━━━━┳━━━━━━━━━━━━━━━━━━━━━━━━━━━━━┳━━━━━━━━━━━━━━━━━┓\n",
              "┃\u001b[1m \u001b[0m\u001b[1mLayer (type)                        \u001b[0m\u001b[1m \u001b[0m┃\u001b[1m \u001b[0m\u001b[1mOutput Shape               \u001b[0m\u001b[1m \u001b[0m┃\u001b[1m \u001b[0m\u001b[1m        Param #\u001b[0m\u001b[1m \u001b[0m┃\n",
              "┡━━━━━━━━━━━━━━━━━━━━━━━━━━━━━━━━━━━━━━╇━━━━━━━━━━━━━━━━━━━━━━━━━━━━━╇━━━━━━━━━━━━━━━━━┩\n",
              "│ embedding_7 (\u001b[38;5;33mEmbedding\u001b[0m)              │ (\u001b[38;5;45mNone\u001b[0m, \u001b[38;5;34m515\u001b[0m, \u001b[38;5;34m300\u001b[0m)            │     \u001b[38;5;34m120,000,600\u001b[0m │\n",
              "├──────────────────────────────────────┼─────────────────────────────┼─────────────────┤\n",
              "│ conv1d_18 (\u001b[38;5;33mConv1D\u001b[0m)                   │ (\u001b[38;5;45mNone\u001b[0m, \u001b[38;5;34m513\u001b[0m, \u001b[38;5;34m128\u001b[0m)            │         \u001b[38;5;34m115,328\u001b[0m │\n",
              "├──────────────────────────────────────┼─────────────────────────────┼─────────────────┤\n",
              "│ max_pooling1d_17 (\u001b[38;5;33mMaxPooling1D\u001b[0m)      │ (\u001b[38;5;45mNone\u001b[0m, \u001b[38;5;34m256\u001b[0m, \u001b[38;5;34m128\u001b[0m)            │               \u001b[38;5;34m0\u001b[0m │\n",
              "├──────────────────────────────────────┼─────────────────────────────┼─────────────────┤\n",
              "│ conv1d_19 (\u001b[38;5;33mConv1D\u001b[0m)                   │ (\u001b[38;5;45mNone\u001b[0m, \u001b[38;5;34m253\u001b[0m, \u001b[38;5;34m128\u001b[0m)            │          \u001b[38;5;34m65,664\u001b[0m │\n",
              "├──────────────────────────────────────┼─────────────────────────────┼─────────────────┤\n",
              "│ max_pooling1d_18 (\u001b[38;5;33mMaxPooling1D\u001b[0m)      │ (\u001b[38;5;45mNone\u001b[0m, \u001b[38;5;34m126\u001b[0m, \u001b[38;5;34m128\u001b[0m)            │               \u001b[38;5;34m0\u001b[0m │\n",
              "├──────────────────────────────────────┼─────────────────────────────┼─────────────────┤\n",
              "│ conv1d_20 (\u001b[38;5;33mConv1D\u001b[0m)                   │ (\u001b[38;5;45mNone\u001b[0m, \u001b[38;5;34m122\u001b[0m, \u001b[38;5;34m128\u001b[0m)            │          \u001b[38;5;34m82,048\u001b[0m │\n",
              "├──────────────────────────────────────┼─────────────────────────────┼─────────────────┤\n",
              "│ max_pooling1d_19 (\u001b[38;5;33mMaxPooling1D\u001b[0m)      │ (\u001b[38;5;45mNone\u001b[0m, \u001b[38;5;34m61\u001b[0m, \u001b[38;5;34m128\u001b[0m)             │               \u001b[38;5;34m0\u001b[0m │\n",
              "├──────────────────────────────────────┼─────────────────────────────┼─────────────────┤\n",
              "│ flatten_6 (\u001b[38;5;33mFlatten\u001b[0m)                  │ (\u001b[38;5;45mNone\u001b[0m, \u001b[38;5;34m7808\u001b[0m)                │               \u001b[38;5;34m0\u001b[0m │\n",
              "├──────────────────────────────────────┼─────────────────────────────┼─────────────────┤\n",
              "│ dense_12 (\u001b[38;5;33mDense\u001b[0m)                     │ (\u001b[38;5;45mNone\u001b[0m, \u001b[38;5;34m128\u001b[0m)                 │         \u001b[38;5;34m999,552\u001b[0m │\n",
              "├──────────────────────────────────────┼─────────────────────────────┼─────────────────┤\n",
              "│ dropout_6 (\u001b[38;5;33mDropout\u001b[0m)                  │ (\u001b[38;5;45mNone\u001b[0m, \u001b[38;5;34m128\u001b[0m)                 │               \u001b[38;5;34m0\u001b[0m │\n",
              "├──────────────────────────────────────┼─────────────────────────────┼─────────────────┤\n",
              "│ dense_13 (\u001b[38;5;33mDense\u001b[0m)                     │ (\u001b[38;5;45mNone\u001b[0m, \u001b[38;5;34m1\u001b[0m)                   │             \u001b[38;5;34m129\u001b[0m │\n",
              "└──────────────────────────────────────┴─────────────────────────────┴─────────────────┘\n"
            ],
            "text/html": [
              "<pre style=\"white-space:pre;overflow-x:auto;line-height:normal;font-family:Menlo,'DejaVu Sans Mono',consolas,'Courier New',monospace\">┏━━━━━━━━━━━━━━━━━━━━━━━━━━━━━━━━━━━━━━┳━━━━━━━━━━━━━━━━━━━━━━━━━━━━━┳━━━━━━━━━━━━━━━━━┓\n",
              "┃<span style=\"font-weight: bold\"> Layer (type)                         </span>┃<span style=\"font-weight: bold\"> Output Shape                </span>┃<span style=\"font-weight: bold\">         Param # </span>┃\n",
              "┡━━━━━━━━━━━━━━━━━━━━━━━━━━━━━━━━━━━━━━╇━━━━━━━━━━━━━━━━━━━━━━━━━━━━━╇━━━━━━━━━━━━━━━━━┩\n",
              "│ embedding_7 (<span style=\"color: #0087ff; text-decoration-color: #0087ff\">Embedding</span>)              │ (<span style=\"color: #00d7ff; text-decoration-color: #00d7ff\">None</span>, <span style=\"color: #00af00; text-decoration-color: #00af00\">515</span>, <span style=\"color: #00af00; text-decoration-color: #00af00\">300</span>)            │     <span style=\"color: #00af00; text-decoration-color: #00af00\">120,000,600</span> │\n",
              "├──────────────────────────────────────┼─────────────────────────────┼─────────────────┤\n",
              "│ conv1d_18 (<span style=\"color: #0087ff; text-decoration-color: #0087ff\">Conv1D</span>)                   │ (<span style=\"color: #00d7ff; text-decoration-color: #00d7ff\">None</span>, <span style=\"color: #00af00; text-decoration-color: #00af00\">513</span>, <span style=\"color: #00af00; text-decoration-color: #00af00\">128</span>)            │         <span style=\"color: #00af00; text-decoration-color: #00af00\">115,328</span> │\n",
              "├──────────────────────────────────────┼─────────────────────────────┼─────────────────┤\n",
              "│ max_pooling1d_17 (<span style=\"color: #0087ff; text-decoration-color: #0087ff\">MaxPooling1D</span>)      │ (<span style=\"color: #00d7ff; text-decoration-color: #00d7ff\">None</span>, <span style=\"color: #00af00; text-decoration-color: #00af00\">256</span>, <span style=\"color: #00af00; text-decoration-color: #00af00\">128</span>)            │               <span style=\"color: #00af00; text-decoration-color: #00af00\">0</span> │\n",
              "├──────────────────────────────────────┼─────────────────────────────┼─────────────────┤\n",
              "│ conv1d_19 (<span style=\"color: #0087ff; text-decoration-color: #0087ff\">Conv1D</span>)                   │ (<span style=\"color: #00d7ff; text-decoration-color: #00d7ff\">None</span>, <span style=\"color: #00af00; text-decoration-color: #00af00\">253</span>, <span style=\"color: #00af00; text-decoration-color: #00af00\">128</span>)            │          <span style=\"color: #00af00; text-decoration-color: #00af00\">65,664</span> │\n",
              "├──────────────────────────────────────┼─────────────────────────────┼─────────────────┤\n",
              "│ max_pooling1d_18 (<span style=\"color: #0087ff; text-decoration-color: #0087ff\">MaxPooling1D</span>)      │ (<span style=\"color: #00d7ff; text-decoration-color: #00d7ff\">None</span>, <span style=\"color: #00af00; text-decoration-color: #00af00\">126</span>, <span style=\"color: #00af00; text-decoration-color: #00af00\">128</span>)            │               <span style=\"color: #00af00; text-decoration-color: #00af00\">0</span> │\n",
              "├──────────────────────────────────────┼─────────────────────────────┼─────────────────┤\n",
              "│ conv1d_20 (<span style=\"color: #0087ff; text-decoration-color: #0087ff\">Conv1D</span>)                   │ (<span style=\"color: #00d7ff; text-decoration-color: #00d7ff\">None</span>, <span style=\"color: #00af00; text-decoration-color: #00af00\">122</span>, <span style=\"color: #00af00; text-decoration-color: #00af00\">128</span>)            │          <span style=\"color: #00af00; text-decoration-color: #00af00\">82,048</span> │\n",
              "├──────────────────────────────────────┼─────────────────────────────┼─────────────────┤\n",
              "│ max_pooling1d_19 (<span style=\"color: #0087ff; text-decoration-color: #0087ff\">MaxPooling1D</span>)      │ (<span style=\"color: #00d7ff; text-decoration-color: #00d7ff\">None</span>, <span style=\"color: #00af00; text-decoration-color: #00af00\">61</span>, <span style=\"color: #00af00; text-decoration-color: #00af00\">128</span>)             │               <span style=\"color: #00af00; text-decoration-color: #00af00\">0</span> │\n",
              "├──────────────────────────────────────┼─────────────────────────────┼─────────────────┤\n",
              "│ flatten_6 (<span style=\"color: #0087ff; text-decoration-color: #0087ff\">Flatten</span>)                  │ (<span style=\"color: #00d7ff; text-decoration-color: #00d7ff\">None</span>, <span style=\"color: #00af00; text-decoration-color: #00af00\">7808</span>)                │               <span style=\"color: #00af00; text-decoration-color: #00af00\">0</span> │\n",
              "├──────────────────────────────────────┼─────────────────────────────┼─────────────────┤\n",
              "│ dense_12 (<span style=\"color: #0087ff; text-decoration-color: #0087ff\">Dense</span>)                     │ (<span style=\"color: #00d7ff; text-decoration-color: #00d7ff\">None</span>, <span style=\"color: #00af00; text-decoration-color: #00af00\">128</span>)                 │         <span style=\"color: #00af00; text-decoration-color: #00af00\">999,552</span> │\n",
              "├──────────────────────────────────────┼─────────────────────────────┼─────────────────┤\n",
              "│ dropout_6 (<span style=\"color: #0087ff; text-decoration-color: #0087ff\">Dropout</span>)                  │ (<span style=\"color: #00d7ff; text-decoration-color: #00d7ff\">None</span>, <span style=\"color: #00af00; text-decoration-color: #00af00\">128</span>)                 │               <span style=\"color: #00af00; text-decoration-color: #00af00\">0</span> │\n",
              "├──────────────────────────────────────┼─────────────────────────────┼─────────────────┤\n",
              "│ dense_13 (<span style=\"color: #0087ff; text-decoration-color: #0087ff\">Dense</span>)                     │ (<span style=\"color: #00d7ff; text-decoration-color: #00d7ff\">None</span>, <span style=\"color: #00af00; text-decoration-color: #00af00\">1</span>)                   │             <span style=\"color: #00af00; text-decoration-color: #00af00\">129</span> │\n",
              "└──────────────────────────────────────┴─────────────────────────────┴─────────────────┘\n",
              "</pre>\n"
            ]
          },
          "metadata": {}
        },
        {
          "output_type": "display_data",
          "data": {
            "text/plain": [
              "\u001b[1m Total params: \u001b[0m\u001b[38;5;34m121,263,321\u001b[0m (462.58 MB)\n"
            ],
            "text/html": [
              "<pre style=\"white-space:pre;overflow-x:auto;line-height:normal;font-family:Menlo,'DejaVu Sans Mono',consolas,'Courier New',monospace\"><span style=\"font-weight: bold\"> Total params: </span><span style=\"color: #00af00; text-decoration-color: #00af00\">121,263,321</span> (462.58 MB)\n",
              "</pre>\n"
            ]
          },
          "metadata": {}
        },
        {
          "output_type": "display_data",
          "data": {
            "text/plain": [
              "\u001b[1m Trainable params: \u001b[0m\u001b[38;5;34m1,262,721\u001b[0m (4.82 MB)\n"
            ],
            "text/html": [
              "<pre style=\"white-space:pre;overflow-x:auto;line-height:normal;font-family:Menlo,'DejaVu Sans Mono',consolas,'Courier New',monospace\"><span style=\"font-weight: bold\"> Trainable params: </span><span style=\"color: #00af00; text-decoration-color: #00af00\">1,262,721</span> (4.82 MB)\n",
              "</pre>\n"
            ]
          },
          "metadata": {}
        },
        {
          "output_type": "display_data",
          "data": {
            "text/plain": [
              "\u001b[1m Non-trainable params: \u001b[0m\u001b[38;5;34m120,000,600\u001b[0m (457.77 MB)\n"
            ],
            "text/html": [
              "<pre style=\"white-space:pre;overflow-x:auto;line-height:normal;font-family:Menlo,'DejaVu Sans Mono',consolas,'Courier New',monospace\"><span style=\"font-weight: bold\"> Non-trainable params: </span><span style=\"color: #00af00; text-decoration-color: #00af00\">120,000,600</span> (457.77 MB)\n",
              "</pre>\n"
            ]
          },
          "metadata": {}
        }
      ]
    },
    {
      "cell_type": "markdown",
      "source": [
        "**Train the Model**"
      ],
      "metadata": {
        "id": "z8J1PyfvnZrq"
      }
    },
    {
      "cell_type": "code",
      "source": [
        "history = model.fit(X_train_seq, y_train, epochs=5, batch_size=32, validation_split=0.2, verbose=1)"
      ],
      "metadata": {
        "colab": {
          "base_uri": "https://localhost:8080/"
        },
        "id": "fLM0R0W1nV9A",
        "outputId": "b02643b1-c3e3-4fa5-cd77-712ce7835b06"
      },
      "execution_count": null,
      "outputs": [
        {
          "output_type": "stream",
          "name": "stdout",
          "text": [
            "Epoch 1/5\n",
            "\u001b[1m795/795\u001b[0m \u001b[32m━━━━━━━━━━━━━━━━━━━━\u001b[0m\u001b[37m\u001b[0m \u001b[1m13s\u001b[0m 12ms/step - accuracy: 0.9244 - loss: 0.1673 - val_accuracy: 0.9969 - val_loss: 0.0118\n",
            "Epoch 2/5\n",
            "\u001b[1m795/795\u001b[0m \u001b[32m━━━━━━━━━━━━━━━━━━━━\u001b[0m\u001b[37m\u001b[0m \u001b[1m7s\u001b[0m 9ms/step - accuracy: 0.9962 - loss: 0.0114 - val_accuracy: 0.9964 - val_loss: 0.0137\n",
            "Epoch 3/5\n",
            "\u001b[1m795/795\u001b[0m \u001b[32m━━━━━━━━━━━━━━━━━━━━\u001b[0m\u001b[37m\u001b[0m \u001b[1m7s\u001b[0m 9ms/step - accuracy: 0.9975 - loss: 0.0064 - val_accuracy: 0.9954 - val_loss: 0.0159\n",
            "Epoch 4/5\n",
            "\u001b[1m795/795\u001b[0m \u001b[32m━━━━━━━━━━━━━━━━━━━━\u001b[0m\u001b[37m\u001b[0m \u001b[1m7s\u001b[0m 9ms/step - accuracy: 0.9960 - loss: 0.0123 - val_accuracy: 0.9959 - val_loss: 0.0143\n",
            "Epoch 5/5\n",
            "\u001b[1m795/795\u001b[0m \u001b[32m━━━━━━━━━━━━━━━━━━━━\u001b[0m\u001b[37m\u001b[0m \u001b[1m7s\u001b[0m 9ms/step - accuracy: 0.9984 - loss: 0.0057 - val_accuracy: 0.9975 - val_loss: 0.0077\n"
          ]
        }
      ]
    },
    {
      "cell_type": "markdown",
      "source": [
        "**Predict and Evaluate**"
      ],
      "metadata": {
        "id": "G-8K9qFrnjnA"
      }
    },
    {
      "cell_type": "code",
      "source": [
        "# Predict and evaluate\n",
        "y_pred_cnn = (model.predict(X_test_seq) > 0.5).astype(int)\n",
        "print(\"Test Accuracy (CNN):\", accuracy_score(y_test, y_pred_cnn))\n",
        "print(\"Test Classification Report (CNN):\\n\", classification_report(y_test, y_pred_cnn))\n",
        "\n",
        "# Training accuracy\n",
        "y_train_pred_cnn = (model.predict(X_train_seq) > 0.5).astype(int)\n",
        "print(\"\\nTraining Accuracy (CNN):\", accuracy_score(y_train, y_train_pred_cnn))"
      ],
      "metadata": {
        "colab": {
          "base_uri": "https://localhost:8080/"
        },
        "id": "h9XFVGxdnj-o",
        "outputId": "f64215f6-c868-4425-f4b6-89da6419d54f"
      },
      "execution_count": null,
      "outputs": [
        {
          "output_type": "stream",
          "name": "stdout",
          "text": [
            "\u001b[1m249/249\u001b[0m \u001b[32m━━━━━━━━━━━━━━━━━━━━\u001b[0m\u001b[37m\u001b[0m \u001b[1m1s\u001b[0m 4ms/step\n",
            "Test Accuracy (CNN): 0.998112970184929\n",
            "Test Classification Report (CNN):\n",
            "               precision    recall  f1-score   support\n",
            "\n",
            "           0       1.00      1.00      1.00      3970\n",
            "           1       1.00      1.00      1.00      3979\n",
            "\n",
            "    accuracy                           1.00      7949\n",
            "   macro avg       1.00      1.00      1.00      7949\n",
            "weighted avg       1.00      1.00      1.00      7949\n",
            "\n",
            "\u001b[1m994/994\u001b[0m \u001b[32m━━━━━━━━━━━━━━━━━━━━\u001b[0m\u001b[37m\u001b[0m \u001b[1m2s\u001b[0m 2ms/step\n",
            "\n",
            "Training Accuracy (CNN): 0.9993394564670357\n"
          ]
        }
      ]
    },
    {
      "cell_type": "markdown",
      "source": [
        "**Display Confusion Matrices**"
      ],
      "metadata": {
        "id": "TYpGe1WXnv7G"
      }
    },
    {
      "cell_type": "code",
      "source": [
        "# Confusion matrices\n",
        "train_cm_cnn = confusion_matrix(y_train, y_train_pred_cnn, labels=[0, 1])\n",
        "test_cm_cnn = confusion_matrix(y_test, y_pred_cnn, labels=[0, 1])\n",
        "\n",
        "print(\"\\nTraining Confusion Matrix (CNN):\")\n",
        "print(train_cm_cnn)\n",
        "print(\"\\nTest Confusion Matrix (CNN):\")\n",
        "print(test_cm_cnn)\n",
        "\n",
        "# Visualize confusion matrices\n",
        "fig, (ax1, ax2) = plt.subplots(1, 2, figsize=(12, 5))\n",
        "ConfusionMatrixDisplay(confusion_matrix=train_cm_cnn, display_labels=['Fake (0)', 'Real (1)']).plot(ax=ax1, cmap='Blues')\n",
        "ax1.set_title(\"Training Confusion Matrix (CNN)\")\n",
        "ConfusionMatrixDisplay(confusion_matrix=test_cm_cnn, display_labels=['Fake (0)', 'Real (1)']).plot(ax=ax2, cmap='Blues')\n",
        "ax2.set_title(\"Test Confusion Matrix (CNN)\")\n",
        "plt.tight_layout()\n",
        "plt.show()"
      ],
      "metadata": {
        "colab": {
          "base_uri": "https://localhost:8080/",
          "height": 606
        },
        "id": "fMJV4wKnnxj-",
        "outputId": "3ed447d3-1e59-4594-866a-67e05f5680e5"
      },
      "execution_count": null,
      "outputs": [
        {
          "output_type": "stream",
          "name": "stdout",
          "text": [
            "\n",
            "Training Confusion Matrix (CNN):\n",
            "[[15963     7]\n",
            " [   14 15808]]\n",
            "\n",
            "Test Confusion Matrix (CNN):\n",
            "[[3960   10]\n",
            " [   5 3974]]\n"
          ]
        },
        {
          "output_type": "display_data",
          "data": {
            "text/plain": [
              "<Figure size 1200x500 with 4 Axes>"
            ],
            "image/png": "[encoded data removed]"
          },
          "metadata": {}
        }
      ]
    },
    {
      "cell_type": "code",
      "source": [
        "# Save the model\n",
        "#model_cnn.save('NLP_Project_CNN_Model.keras')"
      ],
      "metadata": {
        "id": "FA4ZIJy49MXv"
      },
      "execution_count": null,
      "outputs": []
    },
    {
      "cell_type": "code",
      "source": [
        "model.save('FakeDetectionCNN_Model.h5')"
      ],
      "metadata": {
        "colab": {
          "base_uri": "https://localhost:8080/"
        },
        "id": "mHnPftf__OwD",
        "outputId": "9fcd536c-f2c3-43be-cf2b-52e133f032ac"
      },
      "execution_count": null,
      "outputs": [
        {
          "output_type": "stream",
          "name": "stderr",
          "text": [
            "WARNING:absl:You are saving your model as an HDF5 file via `model.save()` or `keras.saving.save_model(model)`. This file format is considered legacy. We recommend using instead the native Keras format, e.g. `model.save('my_model.keras')` or `keras.saving.save_model(model, 'my_model.keras')`. \n"
          ]
        }
      ]
    },
    {
      "cell_type": "code",
      "source": [
        "import pickle\n",
        "from tensorflow.keras.preprocessing.text import Tokenizer\n",
        "from google.colab import files\n",
        "\n",
        "# Initialize and fit tokenizer\n",
        "tokenizer = Tokenizer()\n",
        "tokenizer.fit_on_texts(df['combined'])  # Ensure 'df' is already defined\n",
        "\n",
        "# Save the tokenizer\n",
        "with open(\"tokenizer.pkl\", \"wb\") as handle:\n",
        "    pickle.dump(tokenizer, handle, protocol=pickle.HIGHEST_PROTOCOL)\n",
        "\n",
        "print(\"✅ Tokenizer saved successfully!\")"
      ],
      "metadata": {
        "colab": {
          "base_uri": "https://localhost:8080/"
        },
        "id": "xzxuKvN10GG1",
        "outputId": "948dbc39-8b0e-448d-be7e-b2a0bb69656b"
      },
      "execution_count": null,
      "outputs": [
        {
          "output_type": "stream",
          "name": "stdout",
          "text": [
            "✅ Tokenizer saved successfully!\n"
          ]
        }
      ]
    },
    {
      "cell_type": "code",
      "source": [
        "from google.colab import files\n",
        "\n",
        "# Save the model\n",
        "model_cnn.save('NLP_Project_CNN_Model.h5')\n",
        "\n",
        "# Download the file\n",
        "files.download('NLP_Project_CNN_Model.h5')"
      ],
      "metadata": {
        "colab": {
          "base_uri": "https://localhost:8080/",
          "height": 54
        },
        "id": "V5rZpo0n_4wt",
        "outputId": "4073638e-6255-449e-bbd4-8a335300ae92"
      },
      "execution_count": null,
      "outputs": [
        {
          "output_type": "stream",
          "name": "stderr",
          "text": [
            "WARNING:absl:You are saving your model as an HDF5 file via `model.save()` or `keras.saving.save_model(model)`. This file format is considered legacy. We recommend using instead the native Keras format, e.g. `model.save('my_model.keras')` or `keras.saving.save_model(model, 'my_model.keras')`. \n"
          ]
        },
        {
          "output_type": "display_data",
          "data": {
            "text/plain": [
              "<IPython.core.display.Javascript object>"
            ],
            "application/javascript": [
              "\n",
              "    async function download(id, filename, size) {\n",
              "      if (!google.colab.kernel.accessAllowed) {\n",
              "        return;\n",
              "      }\n",
              "      const div = document.createElement('div');\n",
              "      const label = document.createElement('label');\n",
              "      label.textContent = `Downloading \"${filename}\": `;\n",
              "      div.appendChild(label);\n",
              "      const progress = document.createElement('progress');\n",
              "      progress.max = size;\n",
              "      div.appendChild(progress);\n",
              "      document.body.appendChild(div);\n",
              "\n",
              "      const buffers = [];\n",
              "      let downloaded = 0;\n",
              "\n",
              "      const channel = await google.colab.kernel.comms.open(id);\n",
              "      // Send a message to notify the kernel that we're ready.\n",
              "      channel.send({})\n",
              "\n",
              "      for await (const message of channel.messages) {\n",
              "        // Send a message to notify the kernel that we're ready.\n",
              "        channel.send({})\n",
              "        if (message.buffers) {\n",
              "          for (const buffer of message.buffers) {\n",
              "            buffers.push(buffer);\n",
              "            downloaded += buffer.byteLength;\n",
              "            progress.value = downloaded;\n",
              "          }\n",
              "        }\n",
              "      }\n",
              "      const blob = new Blob(buffers, {type: 'application/binary'});\n",
              "      const a = document.createElement('a');\n",
              "      a.href = window.URL.createObjectURL(blob);\n",
              "      a.download = filename;\n",
              "      div.appendChild(a);\n",
              "      a.click();\n",
              "      div.remove();\n",
              "    }\n",
              "  "
            ]
          },
          "metadata": {}
        },
        {
          "output_type": "display_data",
          "data": {
            "text/plain": [
              "<IPython.core.display.Javascript object>"
            ],
            "application/javascript": [
              "download(\"download_25ced4ff-73c8-4f0d-8469-47825d0182d1\", \"NLP_Project_CNN_Model.h5\", 486164168)"
            ]
          },
          "metadata": {}
        }
      ]
    }
  ]
}